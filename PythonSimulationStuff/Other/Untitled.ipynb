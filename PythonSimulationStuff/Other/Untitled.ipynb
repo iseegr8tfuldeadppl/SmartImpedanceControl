{
 "cells": [
  {
   "cell_type": "code",
   "execution_count": 7,
   "id": "104d77f7-ce7a-4510-b2d2-dcef689ac968",
   "metadata": {},
   "outputs": [],
   "source": [
    "import cv2\n",
    "import numpy as np\n",
    "from math import pi, cos, sin, exp\n",
    "import keyboard\n",
    "from time import time\n",
    "from values import *"
   ]
  },
  {
   "cell_type": "code",
   "execution_count": 24,
   "id": "4e897a1a-d12f-490e-86a2-6d5152634f9f",
   "metadata": {},
   "outputs": [],
   "source": [
    "def initXandXd():\n",
    "    x = np.empty((0, 2), int) # actual position\n",
    "    xd = np.empty((0, 2), int) # desired position\n",
    "    return x, xd\n",
    "\n",
    "def resetXAndXd():\n",
    "    x, xd = initXandXd()\n",
    "\n",
    "    x = np.append(x, np.array([[int(WIDTH/2), int(HEIGHT/2)]]), axis=0) # actual position\n",
    "    xd = np.append(xd, np.array([[int(WIDTH/2 + WIDTH/4), int(HEIGHT/2 + HEIGHT/4)]]), axis=0) # desired position\n",
    "    return x, xd\n",
    "\n",
    "x, xd = initXandXd()\n",
    "x, xd = resetXAndXd()\n",
    "Fh = np.array([]) # force applied to robot"
   ]
  },
  {
   "cell_type": "code",
   "execution_count": 27,
   "id": "229d85f6-d555-44a3-bd7e-e8bb82cda8e8",
   "metadata": {},
   "outputs": [],
   "source": [
    "#%%%%%%%%%%%%%%%%%%%%%%%%%%%%\n",
    "# Shared Variables\n",
    "#%%%%%%%%%%%%%%%%%%%%%%%%%%%%\n",
    "i = len(xd) - 1 # number of sampling times\n",
    "e = xd - x # array of errors between all positions of x and xd\n",
    "\n",
    "# for my code the error is considered as the affecting force, just bcz it's the simplest way to go about it\n",
    "Fh = e.copy()\n",
    "\n",
    "#%%%%%%%%%%%%%%%%%%%%%%%%%%%%\n",
    "# Trajactory Adaptation\n",
    "#%%%%%%%%%%%%%%%%%%%%%%%%%%%%\n",
    "\n",
    "#%%%%%%%%%%%%%%%%%%%%%%%%%%%%\n",
    "# Operation - Trajactory Adaptation\n",
    "#%%%%%%%%%%%%%%%%%%%%%%%%%%%%\n",
    "Epsilon1 = K1 * e*e # performance evaluation index\n",
    "\n",
    "# Index function J\n",
    "J = 0\n",
    "for j in range(0, i):\n",
    "    J = J + Epsilon1[j] * np.exp( - Mu1 * (i - j) * dT )\n",
    "\n",
    "Alpha1 = 1 - np.exp( -v1 * J ) # variable to be designed according to a specific system to adjust the user's interaction profile\n",
    "Beta1 = M1 * Alpha1 # an open parameter to regulate the interaction force\n",
    "\n",
    "# final relation between x, xd and Fh\n",
    "xd_trajectory_adaptation = x + Beta1 * Fh # oh we experienced disturbing force Fh, let's see where we should move next to reduce Fh, we find xd\n",
    "\n",
    "\n",
    "#%%%%%%%%%%%%%%%%%%%%%%%%%%%%\n",
    "# Adaptive impedance Control\n",
    "#%%%%%%%%%%%%%%%%%%%%%%%%%%%%\n",
    "# we must differentiate X axis and Y axis separately from each other then put them back together\n",
    "A1 = np.diff([ A1[0] for A1 in e ])\n",
    "A2 = np.diff([ A2[1] for A2 in e ])\n",
    "e_derivative = np.empty((0, 2), int)\n",
    "e_derivative = np.insert(e_derivative, 0, e[0], axis=0)\n",
    "for i in range(0, len(A1)):\n",
    "    e_derivative = np.insert(e_derivative, 0, np.array([A1[i], A2[i]]), axis=0)\n",
    "# because the python differentiation doesn't insert the first element that start from zero we add it\n",
    "\n",
    "#%%%%%%%%%%%%%%%%%%%%%%%%%%%%\n",
    "# Operation - Adaptive impedance Control\n",
    "#%%%%%%%%%%%%%%%%%%%%%%%%%%%%\n",
    "Epsilon2 = K2 * e*e # performance evaluation index\n",
    "\n",
    "# Index function J2\n",
    "J2 = 0\n",
    "for j in range(0, i):\n",
    "    J2 = J2 + Epsilon2[j] * np.exp( - Mu2 * (i - j) * dT )\n",
    "\n",
    "Alpha2 = np.exp( -v2 * J2 ) # variable to be designed according to a specific system to adjust the user's interaction profile\n",
    "\n",
    "Beta2 = M2 * Alpha2 # paramter to regulate the stiffness of the impedence controller\n",
    "deltaK = Beta2 * abs(Fh)\n",
    "Kc = Kc0 + deltaK # variable stiffness\n",
    "Fim = Kc * e + Kd * e_derivative # it's u, input of the impedance control\n",
    "\n",
    "# final relation between x, xd and Fh\n",
    "xd_impedence_control = x + Beta2 * Fh # oh we experienced disturbing force Fh, let's see where we should move next to reduce Fh, we find xd\n",
    "\n",
    "\n",
    "\n",
    "# TODO: you're only using xd_impedence_control in the line before   \n",
    "x = np.append(x, np.array([[ int(xd_impedence_control[0][0]), int(xd_impedence_control[0][1]) ]]), axis=0) # just keep all coordinates as int\n",
    "xd = np.append(xd, np.array([xd[len(xd)-1]]) , axis=0) # i guess we keep desiring the same spot until we reach it?\n"
   ]
  },
  {
   "cell_type": "code",
   "execution_count": 31,
   "id": "9711a123-711a-4939-bb2c-e6f0afb7add8",
   "metadata": {},
   "outputs": [
    {
     "data": {
      "text/plain": [
       "array([[225, 250],\n",
       "       [100, 100],\n",
       "       [100, 100]])"
      ]
     },
     "execution_count": 31,
     "metadata": {},
     "output_type": "execute_result"
    }
   ],
   "source": [
    "Fh+100"
   ]
  },
  {
   "cell_type": "code",
   "execution_count": null,
   "id": "8208bf15-0348-4231-87a7-841b4e769c91",
   "metadata": {},
   "outputs": [],
   "source": []
  }
 ],
 "metadata": {
  "kernelspec": {
   "display_name": "Python 3",
   "language": "python",
   "name": "python3"
  },
  "language_info": {
   "codemirror_mode": {
    "name": "ipython",
    "version": 3
   },
   "file_extension": ".py",
   "mimetype": "text/x-python",
   "name": "python",
   "nbconvert_exporter": "python",
   "pygments_lexer": "ipython3",
   "version": "3.8.8"
  }
 },
 "nbformat": 4,
 "nbformat_minor": 5
}

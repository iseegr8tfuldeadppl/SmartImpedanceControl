{
 "cells": [
  {
   "cell_type": "code",
   "execution_count": null,
   "id": "4ddd9555-811a-437d-ac32-b0c5fb7cae5c",
   "metadata": {},
   "outputs": [],
   "source": [
    "#https://www.youtube.com/watch?v=8ZZDNd4eyVI&t=1s&ab_channel=Mr.PSolver\n",
    "import numpy as np\n",
    "import sympy as smp\n",
    "from scipy.integrate import odeint\n",
    "import matplotlib.pyplot as plt\n",
    "from matplotlib import animation\n",
    "from mpl_toolkits.mplot3d import Axes3D\n",
    "from matplotlib.animation import PillowWriter"
   ]
  },
  {
   "cell_type": "code",
   "execution_count": 51,
   "id": "6cfae5be-150c-4c4c-b01e-3ffb33355db3",
   "metadata": {},
   "outputs": [],
   "source": [
    "t, g = smp.symbols('t g')\n",
    "m1, m2 = smp.symbols('m1 m2')\n",
    "L1, L2 = smp.symbols('L1, L2')"
   ]
  },
  {
   "cell_type": "code",
   "execution_count": 52,
   "id": "cf260b3f-373f-447d-a6f4-76ff9d642e9c",
   "metadata": {},
   "outputs": [],
   "source": [
    "the1, the2 = smp.symbols(r'\\theta_1, \\theta_2', cls=smp.Function)"
   ]
  },
  {
   "cell_type": "code",
   "execution_count": 53,
   "id": "238d7ee7-76f6-43cd-b996-0b0d2fd21ab5",
   "metadata": {},
   "outputs": [],
   "source": [
    "the1 = the1(t)\n",
    "the2 = the2(t)"
   ]
  },
  {
   "cell_type": "code",
   "execution_count": 54,
   "id": "952185cf-dc36-46a0-b272-94e04364eadd",
   "metadata": {},
   "outputs": [],
   "source": [
    "the1_d = smp.diff(the1, t)\n",
    "the2_d = smp.diff(the2, t)\n",
    "the1_dd = smp.diff(the1_d, t)\n",
    "the2_dd = smp.diff(the2_d, t)"
   ]
  },
  {
   "cell_type": "code",
   "execution_count": 55,
   "id": "e242edbb-a16d-4ed9-85dd-29b3c2eb2f53",
   "metadata": {},
   "outputs": [],
   "source": [
    "x1 = L1*smp.sin(the1)\n",
    "y1 = -L1*smp.cos(the1)\n",
    "\n",
    "x2 = x1 + L2*smp.sin(the2)\n",
    "y2 = y1 - L2*smp.cos(the2)"
   ]
  },
  {
   "cell_type": "code",
   "execution_count": 56,
   "id": "3d1fdf60-15f8-4f6b-af6d-70e461e3ff63",
   "metadata": {},
   "outputs": [],
   "source": [
    "# Kinetic energy: it's 1/2mV^2 \n",
    "T1 = 1/2 * m1 * (smp.diff(x1, t)**2 + smp.diff(y1, t)**2)\n",
    "T2 = 1/2 * m2 * (smp.diff(x2, t)**2 + smp.diff(y2, t)**2)\n",
    "T = T1 + T2\n",
    "\n",
    "# potential energy\n",
    "V1 = m1*g*y1\n",
    "V2 = m2*g*y2\n",
    "V = V1 + V2\n",
    "\n",
    "# lagrangian \n",
    "L = T-V\n",
    "\n"
   ]
  },
  {
   "cell_type": "code",
   "execution_count": 57,
   "id": "11dfc95f-b10c-4a6a-a68a-34ccff92bed6",
   "metadata": {},
   "outputs": [],
   "source": [
    "LE1 = smp.diff(L, the1) - smp.diff(smp.diff(L, the1_d), t).simplify()\n",
    "LE2 = smp.diff(L, the2) - smp.diff(smp.diff(L, the2_d), t).simplify() "
   ]
  },
  {
   "cell_type": "code",
   "execution_count": 58,
   "id": "2dad11a2-00d4-43b3-884a-e4f378171b51",
   "metadata": {},
   "outputs": [],
   "source": [
    "# sympy.solve() assumes all [LE1, LE2, LE3, LE4] each are equal to zero\n",
    "sols = smp.solve([LE1, LE2], (the1_dd, the2_dd), simplify=False, rational=False)"
   ]
  },
  {
   "cell_type": "code",
   "execution_count": 59,
   "id": "58f8effc-ba82-4ec5-b0fb-834fa6a6b74c",
   "metadata": {},
   "outputs": [],
   "source": [
    "# we turned 4 second order differential equations into 8 first order differential equations (4 of them are just mou3amil) bcz sympy can't solve second orders, check a bit before 21:51 in video\n",
    "\n",
    "dz1dt_f = smp.lambdify((t, g, m1, m2, L1, L2, the1, the2, the1_d, the2_d), sols[the1_dd])\n",
    "dz2dt_f = smp.lambdify((t, g, m1, m2, L1, L2, the1, the2, the1_d, the2_d), sols[the2_dd])\n",
    "dthe1dt_f = smp.lambdify(the1_d, the1_d)\n",
    "dthe2dt_f = smp.lambdify(the2_d, the2_d)\n",
    "\n",
    "def dSdt(S, t, g, m1, m2, L1, L2):\n",
    "    the1, z1, the2, z2 = S\n",
    "    \n",
    "    return [\n",
    "        dthe1dt_f(z1),\n",
    "        dz1dt_f(t, g, m1, m2, L1, L2, the1, the2, z1, z2),\n",
    "        dthe2dt_f(z2),\n",
    "        dz2dt_f(t, g, m1, m2, L1, L2, the1, the2, z1, z2)\n",
    "    ]"
   ]
  },
  {
   "cell_type": "code",
   "execution_count": 60,
   "id": "0bbe0d8a-83eb-4d05-8f93-6df0304466d4",
   "metadata": {},
   "outputs": [],
   "source": [
    "t = np.linspace(0, 40, 1001)\n",
    "g = 9.81\n",
    "m1=2\n",
    "m2=1\n",
    "L1=2\n",
    "L2=1\n",
    "\n",
    "ans = odeint(dSdt, y0=[1, -3, -1, 5], t=t, args=(g, m1, m2, L1, L2))"
   ]
  },
  {
   "cell_type": "code",
   "execution_count": 62,
   "id": "1da9cdf1-67bd-4f71-9a75-a01cc0e91f81",
   "metadata": {},
   "outputs": [],
   "source": [
    "the1 = ans.T[0]\n",
    "the2 = ans.T[2]"
   ]
  },
  {
   "cell_type": "code",
   "execution_count": 63,
   "id": "22ec6041-c771-4e3d-901f-cba860e227fd",
   "metadata": {},
   "outputs": [
    {
     "data": {
      "text/plain": [
       "[<matplotlib.lines.Line2D at 0x2014c8a5a90>]"
      ]
     },
     "execution_count": 63,
     "metadata": {},
     "output_type": "execute_result"
    },
    {
     "data": {
      "image/png": "[encoded data removed]",
      "text/plain": [
       "<Figure size 432x288 with 1 Axes>"
      ]
     },
     "metadata": {
      "needs_background": "light"
     },
     "output_type": "display_data"
    }
   ],
   "source": [
    "plt.plot(t, the2)"
   ]
  },
  {
   "cell_type": "code",
   "execution_count": 68,
   "id": "9f64dfdf-72a5-4a1d-8c40-148df41bbfa5",
   "metadata": {},
   "outputs": [],
   "source": [
    "def get_x1y1x2y2(t, the1, the2, L1, L2):\n",
    "    x1 = L1*np.sin(the1)\n",
    "    y1 = -L1*np.cos(the1)\n",
    "\n",
    "    x2 = x1 + L2*np.sin(the2)\n",
    "    y2 = y1 - L2*np.cos(the2)\n",
    "    return (x1, y1, x2, y2)\n",
    "\n",
    "x1, y1, x2, y2 = get_x1y1x2y2(t, ans.T[0], ans.T[2], L1, L2)"
   ]
  },
  {
   "cell_type": "code",
   "execution_count": 70,
   "id": "e49154b4-f2e6-41d3-9aaf-116e61671e35",
   "metadata": {},
   "outputs": [
    {
     "data": {
      "image/png": "[encoded data removed]",
      "text/plain": [
       "<Figure size 576x576 with 1 Axes>"
      ]
     },
     "metadata": {},
     "output_type": "display_data"
    }
   ],
   "source": [
    "def animate(i):\n",
    "    ln1.set_data([0, x1[i], x2[i]], [0, y1[i], y2[i]])\n",
    "    \n",
    "fig, ax = plt.subplots(1, 1, figsize=(8, 8))\n",
    "ax.set_facecolor('k')\n",
    "ax.get_xaxis().set_ticks([]) # hide x axis\n",
    "ax.get_yaxis().set_ticks([]) # hide y axis\n",
    "\n",
    "ln1, = plt.plot([], [], 'ro--', lw=3, markersize=8)\n",
    "#ln2, = plt.plot([], [], 'ro-', lw=3, markersize=8, alpha=0.05, color='cyan')\n",
    "#ln3, = plt.plot([], [], 'ro-', lw=3, markersize=8, alpha=0.05, color='cyan')\n",
    "ax.set_ylim(-4, 4)\n",
    "ax.set_xlim(-4, 4)\n",
    "ani = animation.FuncAnimation(fig, animate, frames=1000, interval=50)\n",
    "ani.save('pen.gif', writer='pillow', fps=25)"
   ]
  },
  {
   "cell_type": "code",
   "execution_count": null,
   "id": "cb8db108-2148-4ec9-8af9-f44b7d22f64f",
   "metadata": {},
   "outputs": [],
   "source": []
  }
 ],
 "metadata": {
  "kernelspec": {
   "display_name": "Python 3 (ipykernel)",
   "language": "python",
   "name": "python3"
  },
  "language_info": {
   "codemirror_mode": {
    "name": "ipython",
    "version": 3
   },
   "file_extension": ".py",
   "mimetype": "text/x-python",
   "name": "python",
   "nbconvert_exporter": "python",
   "pygments_lexer": "ipython3",
   "version": "3.9.7"
  }
 },
 "nbformat": 4,
 "nbformat_minor": 5
}

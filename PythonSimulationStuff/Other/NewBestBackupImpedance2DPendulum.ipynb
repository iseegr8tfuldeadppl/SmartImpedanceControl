{
 "cells": [
  {
   "cell_type": "code",
   "execution_count": 101,
   "id": "8ad0ad44-4f42-4fc8-9893-f3a2a7d3feb5",
   "metadata": {},
   "outputs": [],
   "source": [
    "#https://www.youtube.com/watch?v=8ZZDNd4eyVI&t=1s&ab_channel=Mr.PSolver\n",
    "import numpy as np\n",
    "import sympy as smp"
   ]
  },
  {
   "cell_type": "markdown",
   "id": "6ffa1a05-4e8b-4314-959c-af1847613f2f",
   "metadata": {},
   "source": [
    "Symbols Init"
   ]
  },
  {
   "cell_type": "code",
   "execution_count": 102,
   "id": "6cfae5be-150c-4c4c-b01e-3ffb33355db3",
   "metadata": {},
   "outputs": [],
   "source": [
    "t, g = smp.symbols('t g')\n",
    "m1, m2 = smp.symbols('m1 m2')\n",
    "L1, L2 = smp.symbols('L1, L2')\n",
    "T1, T2 = smp.symbols('T1, T2')\n",
    "\n",
    "the1, the2 = smp.symbols(r'\\theta_1, \\theta_2', cls=smp.Function)\n",
    "the1 = the1(t)\n",
    "the2 = the2(t)\n",
    "\n",
    "the1_d = smp.diff(the1, t)\n",
    "the2_d = smp.diff(the2, t)\n",
    "the1_dd = smp.diff(the1_d, t)\n",
    "the2_dd = smp.diff(the2_d, t)"
   ]
  },
  {
   "cell_type": "markdown",
   "id": "55b8dce2-d271-4df5-85f8-31f273a1bdf5",
   "metadata": {},
   "source": [
    "Forward Kinematics"
   ]
  },
  {
   "cell_type": "code",
   "execution_count": 103,
   "id": "e242edbb-a16d-4ed9-85dd-29b3c2eb2f53",
   "metadata": {},
   "outputs": [],
   "source": [
    "x1 = L1*smp.sin(the1)\n",
    "y1 = -L1*smp.cos(the1)\n",
    "\n",
    "x2 = x1 + L2*smp.sin(the2)\n",
    "y2 = y1 - L2*smp.cos(the2)"
   ]
  },
  {
   "cell_type": "markdown",
   "id": "0befda25-89f1-411f-8cae-26347bfc1324",
   "metadata": {},
   "source": [
    "Dynamic Model"
   ]
  },
  {
   "cell_type": "code",
   "execution_count": 104,
   "id": "3d1fdf60-15f8-4f6b-af6d-70e461e3ff63",
   "metadata": {},
   "outputs": [],
   "source": [
    "# Kinetic energy: it's 1/2mV^2 \n",
    "K1 = 1/2 * m1 * (smp.diff(x1, t)**2 + smp.diff(y1, t)**2)\n",
    "K2 = 1/2 * m2 * (smp.diff(x2, t)**2 + smp.diff(y2, t)**2)\n",
    "K = K1 + K2\n",
    "\n",
    "# potential energy\n",
    "V1 = m1*g*y1\n",
    "V2 = m2*g*y2\n",
    "V = V1 + V2\n",
    "\n",
    "# lagrangian \n",
    "L = K-V"
   ]
  },
  {
   "cell_type": "markdown",
   "id": "558f3dd6-eb3b-4448-88f1-90448883c923",
   "metadata": {},
   "source": [
    "Differential Equations"
   ]
  },
  {
   "cell_type": "code",
   "execution_count": 105,
   "id": "11dfc95f-b10c-4a6a-a68a-34ccff92bed6",
   "metadata": {},
   "outputs": [],
   "source": [
    "LE1 = (smp.diff(L, the1) - smp.diff(smp.diff(L, the1_d), t)).simplify() - T1\n",
    "LE2 = (smp.diff(L, the2) - smp.diff(smp.diff(L, the2_d), t)).simplify() - T2\n",
    "\n",
    "# sympy.solve() assumes all [LE1, LE2, LE3, LE4] each are equal to zero\n",
    "sols = smp.solve([LE1, LE2], (the1_dd, the2_dd), simplify=True, rational=True)\n",
    "\n",
    "thdotdot1_f = smp.lambdify((t, T1, T2, g, m1, m2, L1, L2, the1, the2, the1_d, the2_d), sols[the1_dd])\n",
    "thdotdot2_f = smp.lambdify((t, T1, T2, g, m1, m2, L1, L2, the1, the2, the1_d, the2_d), sols[the2_dd])\n",
    "\n",
    "\n",
    "sols = smp.solve([sols[the1_dd], sols[the2_dd]], (T1, T2), simplify=True, rational=True)\n",
    "\n",
    "T2Eq = sols[T1]\n",
    "T1Eq = sols[T2]\n",
    "\n",
    "T1_f = smp.lambdify((t, g, m1, m2, L1, L2, the1, the2, the1_d, the2_d), T1Eq)\n",
    "T2_f = smp.lambdify((t, g, m1, m2, L1, L2, the1, the2, the1_d, the2_d), T2Eq)"
   ]
  },
  {
   "cell_type": "markdown",
   "id": "4908ca45-b18d-460e-9f95-b7cc4c30e396",
   "metadata": {},
   "source": [
    "Constants"
   ]
  },
  {
   "cell_type": "code",
   "execution_count": 106,
   "id": "14584075-d109-41be-8147-fa289d1c9055",
   "metadata": {},
   "outputs": [],
   "source": [
    "M1 = 1\n",
    "M2 = 1\n",
    "L1 = 1\n",
    "L2 = 1\n",
    "g = 9.8\n",
    "Kp = 1\n",
    "Kd = 1"
   ]
  },
  {
   "cell_type": "markdown",
   "id": "e4f098e5-d3db-4a59-a96f-ad9dfda4a2b5",
   "metadata": {},
   "source": [
    "Physics Init"
   ]
  },
  {
   "cell_type": "code",
   "execution_count": 108,
   "id": "68828200-d04b-4999-989b-273688473d48",
   "metadata": {},
   "outputs": [],
   "source": [
    "theta1 = np.pi*3/4\n",
    "theta1dot = 0\n",
    "theta2 = np.pi*3/4\n",
    "theta2dot = 0\n",
    "\n",
    "previous_theta1 = theta1\n",
    "previous_theta2 = theta2\n",
    "\n",
    "previous_theta1dot = theta1dot\n",
    "previous_theta2dot = theta2dot\n",
    "\n",
    "end_effector_x = 0\n",
    "end_effector_y = 0\n",
    "desired_end_effector_x = 0\n",
    "desired_end_effector_y = 0\n",
    "\n",
    "t = 0\n",
    "dt = 0.04\n",
    "\n",
    "def updateTheta(t, T1_, T2_, dt, theta1, theta2, theta1dot, theta2dot):\n",
    "    theta1dotdot = dz1dt_f(t, T1_, T2_, g, M1, M2, L1, L2, theta1, theta2, theta1dot, theta2dot)\n",
    "    theta2dotdot = dz2dt_f(t, T1_, T2_, g, M1, M2, L1, L2, theta1, theta2, theta1dot, theta2dot)\n",
    "\n",
    "    theta1dot = theta1dotdot*dt + theta1dot\n",
    "    theta2dot = theta2dotdot*dt + theta2dot\n",
    "\n",
    "    theta1 = theta1dot*dt + theta1\n",
    "    theta2 = theta2dot*dt + theta2\n",
    "    return theta1, theta2, theta1dot, theta2dot\n",
    "\n",
    "\n",
    "def impedenceControl(theta1, theta2, theta1dot, theta2dot):\n",
    "    \n",
    "    elbow_speed = (-L1*np.sin(theta1dot), L1*np.cos(theta1dot))\n",
    "    end_effector_speed = (elbow_speed[0]-L2*np.sin(theta2dot), elbow_speed[1]+L2*np.cos(theta2dot))\n",
    "    \n",
    "    T1_ = Kp*(end_effector_x - desired_end_effector_x) + Kd*(end_effector_speed[0] - 0)\n",
    "    T2_ = Kp*(end_effector_y - desired_end_effector_y) + Kd*(end_effector_speed[1] - 0)\n",
    "    \n",
    "    T1_ = T1_ * L1*np.sin(theta1) + T1_ * L1*np.cos(theta1)\n",
    "    T2_ = T2_ * ( -L1*np.sin(theta1) - L2*np.sin(theta2) ) + T2_ * ( L1*np.cos(theta1) + L2*np.cos(theta2) )\n",
    "    \n",
    "    # gravity compensation\n",
    "    T1_ = T1_ + T1_f(t, g, M1, M2, L1, L2, theta1, theta2, theta1dot, theta2dot)\n",
    "    T2_ = T2_ + T2_f(t, g, M1, M2, L1, L2, theta1, theta2, theta1dot, theta2dot)\n",
    "    \n",
    "    return T1_, T2_\n",
    "    "
   ]
  },
  {
   "cell_type": "markdown",
   "id": "78e899a0-00b0-4c2a-9432-a916ce33397d",
   "metadata": {},
   "source": [
    "Init OpenCV"
   ]
  },
  {
   "cell_type": "code",
   "execution_count": 109,
   "id": "e6e64ba6-67e5-485a-adf2-e75fb0483e90",
   "metadata": {
    "tags": []
   },
   "outputs": [
    {
     "name": "stdout",
     "output_type": "stream",
     "text": [
      "Kp 10 Kd 8 M1 1 M2 1\n"
     ]
    }
   ],
   "source": [
    "import cv2\n",
    "from IPython.display import clear_output\n",
    "\n",
    "cv2.destroyAllWindows()\n",
    "\n",
    "\n",
    "def forceIntroduced(event, x, y, flags, param):\n",
    "    global desired_end_effector_x, desired_end_effector_y\n",
    "\n",
    "    if event==cv2.EVENT_LBUTTONDOWN:\n",
    "        desired_end_effector_x = x*2/100 - 4\n",
    "        desired_end_effector_y = y*2/100 - 4\n",
    "        #print(\"difference x\", desired_end_effector_x-end_effector_x, \"y\", desired_end_effector_y-end_effector_y)\n",
    "        clear_output(wait=True)\n",
    "        \n",
    "def kpChanged(arg):\n",
    "    global Kp\n",
    "    Kp = arg\n",
    "    clear_output(wait=True)\n",
    "    print(\"Kp\", Kp, \"Kd\", Kd, \"M1\", M1, \"M2\", M2)\n",
    "\n",
    "def kdChanged(arg):\n",
    "    global Kd\n",
    "    Kd = arg\n",
    "    clear_output(wait=True)\n",
    "    print(\"Kp\", Kp, \"Kd\", Kd, \"M1\", M1, \"M2\", M2)\n",
    "\n",
    "def m1Changed(arg):\n",
    "    global M1\n",
    "    M1 = arg\n",
    "    clear_output(wait=True)\n",
    "    print(\"Kp\", Kp, \"Kd\", Kd, \"M1\", M1, \"M2\", M2)\n",
    "\n",
    "def m2Changed(arg):\n",
    "    global M2\n",
    "    M2 = arg\n",
    "    clear_output(wait=True)\n",
    "    print(\"Kp\", Kp, \"Kd\", Kd, \"M1\", M1, \"M2\", M2)\n",
    "    \n",
    "cv2.namedWindow('output', cv2.WINDOW_AUTOSIZE)\n",
    "cv2.createTrackbar('Kp', 'output', 0, 10, kpChanged)\n",
    "cv2.createTrackbar('Kd', 'output', 0, 10, kdChanged)\n",
    "cv2.createTrackbar('M1', 'output', 0, 10, m1Changed)\n",
    "cv2.createTrackbar('M2', 'output', 0, 10, m2Changed)\n",
    "\n",
    "cv2.setTrackbarPos('Kp','output', int(Kp))\n",
    "cv2.setTrackbarPos('Kd','output', int(Kd))\n",
    "cv2.setTrackbarPos('M1','output', M1)\n",
    "cv2.setTrackbarPos('M2','output', M2)\n",
    "\n",
    "\n",
    "width = 400\n",
    "height = 400\n",
    "\n",
    "def draw(theta1, theta2):\n",
    "    global end_effector_x, end_effector_y\n",
    "    window = np.zeros((height, width, 3), dtype=np.uint8)\n",
    "    elbow = (200-L1*np.sin(theta1)*70, 200+L1*np.cos(theta1)*70)\n",
    "    end_effector = (elbow[0]-L2*np.sin(theta2)*70, elbow[1]+L2*np.cos(theta2)*70)\n",
    "\n",
    "    elbow = (int(elbow[0]), int(elbow[1]))\n",
    "    end_effector = (int(end_effector[0]), int(end_effector[1]))\n",
    "    \n",
    "    end_effector_x = end_effector[0]*2/100 - 4\n",
    "    end_effector_y = end_effector[1]*2/100 - 4\n",
    "\n",
    "    window = cv2.line(window, (200, 200), elbow, (255, 0, 0), 6)\n",
    "    window = cv2.line(window, elbow, end_effector, (255, 0, 0), 6)\n",
    "    \n",
    "    window = cv2.circle(window, (int((desired_end_effector_x+4)*50), int((desired_end_effector_y+4)*50)), 5, (255, 255, 255), 2)\n",
    "    return window"
   ]
  },
  {
   "cell_type": "code",
   "execution_count": 110,
   "id": "015519f2-8eb6-44d9-860e-0341e6bb7d43",
   "metadata": {
    "tags": []
   },
   "outputs": [
    {
     "name": "stdout",
     "output_type": "stream",
     "text": [
      "p -0.94 -0.2200000000000002 dp 0.3200000000000003 0.0\n"
     ]
    }
   ],
   "source": [
    "def reset():\n",
    "    global theta1, theta1dot, theta2, theta2dot, t\n",
    "    theta1 = np.pi*3/4\n",
    "    theta1dot = 0\n",
    "    theta2 = np.pi*3/4\n",
    "    theta2dot = 0\n",
    "    t = 0\n",
    "\n",
    "while True:\n",
    "    try:\n",
    "        clear_output(wait=True)\n",
    "        print(\"p\", end_effector_x, end_effector_y, \"dp\", desired_end_effector_x, desired_end_effector_y)\n",
    "        T1_, T2_ = impedenceControl(theta1, theta2, theta1dot, theta2dot)\n",
    "        #T1_ = 0\n",
    "        #T2_ = 0\n",
    "        theta1, theta2, theta1dot, theta2dot = updateTheta(t, T1_, T2_, dt, theta1, theta2, theta1dot, theta2dot)\n",
    "        window = draw(theta1, theta2)\n",
    "        t = t + dt\n",
    "        cv2.imshow('output', window)\n",
    "        cv2.setMouseCallback('output', forceIntroduced)\n",
    "\n",
    "    except Exception as e:\n",
    "        print(e)\n",
    "        reset()\n",
    "\n",
    "    if cv2.waitKey(1) & 0xFF == ord('r'):\n",
    "        print(\"reseting\")\n",
    "        reset()\n",
    "        \n",
    "    if cv2.waitKey(1) & 0xFF == ord('q'):\n",
    "        break\n",
    "\n",
    "        \n",
    "cv2.destroyAllWindows()"
   ]
  },
  {
   "cell_type": "code",
   "execution_count": null,
   "id": "4cdc21c2-dae8-4e9d-ba29-3a251e9f6e22",
   "metadata": {},
   "outputs": [],
   "source": []
  }
 ],
 "metadata": {
  "kernelspec": {
   "display_name": "Python 3 (ipykernel)",
   "language": "python",
   "name": "python3"
  },
  "language_info": {
   "codemirror_mode": {
    "name": "ipython",
    "version": 3
   },
   "file_extension": ".py",
   "mimetype": "text/x-python",
   "name": "python",
   "nbconvert_exporter": "python",
   "pygments_lexer": "ipython3",
   "version": "3.9.7"
  }
 },
 "nbformat": 4,
 "nbformat_minor": 5
}

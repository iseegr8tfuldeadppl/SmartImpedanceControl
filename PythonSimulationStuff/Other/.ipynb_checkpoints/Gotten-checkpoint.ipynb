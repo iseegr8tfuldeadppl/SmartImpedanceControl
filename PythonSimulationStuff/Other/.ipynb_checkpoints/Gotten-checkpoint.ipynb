{
 "cells": [
  {
   "cell_type": "code",
   "execution_count": null,
   "id": "8ad0ad44-4f42-4fc8-9893-f3a2a7d3feb5",
   "metadata": {},
   "outputs": [],
   "source": [
    "import numpy as np"
   ]
  },
  {
   "cell_type": "code",
   "execution_count": null,
   "id": "14584075-d109-41be-8147-fa289d1c9055",
   "metadata": {},
   "outputs": [],
   "source": [
    "M1 = 1\n",
    "M2 = 1\n",
    "L1 = 1\n",
    "L2 = 1\n",
    "g = 9.8\n",
    "Kp = 0.1\n",
    "Kd = 0.0001"
   ]
  },
  {
   "cell_type": "markdown",
   "id": "e4f098e5-d3db-4a59-a96f-ad9dfda4a2b5",
   "metadata": {},
   "source": [
    "Physics Init"
   ]
  },
  {
   "cell_type": "code",
   "execution_count": null,
   "id": "68828200-d04b-4999-989b-273688473d48",
   "metadata": {},
   "outputs": [],
   "source": [
    "theta1 = np.pi*3/4\n",
    "theta1dot = 0\n",
    "theta2 = np.pi*3/4\n",
    "theta2dot = 0\n",
    "\n",
    "desiredTheta1 = -np.pi*3/4\n",
    "desiredTheta2 = -np.pi*3/4\n",
    "desiredTheta1dot = 0\n",
    "desiredTheta2dot = 0\n",
    "\n",
    "previous_theta1 = theta1\n",
    "previous_theta2 = theta2\n",
    "\n",
    "previous_theta1dot = theta1dot\n",
    "previous_theta2dot = theta2dot\n",
    "\n",
    "t = 0\n",
    "dt = 0.04\n",
    "\n",
    "def updateTheta(t, dt, T1, T2, theta1, theta2, theta1dot, theta2dot):\n",
    "    d1 = L1/2\n",
    "    d2 = L2/2\n",
    "    I1 = 1/12*M1*L1^2\n",
    "    I2 = 1/12*M2*L2^2\n",
    "    \n",
    "    T1 = - (Kd*(ydott + thdot1*(L2*np.sin(th1 + th2) + L1*np.sin(th1)) + L2*thdot2*np.sin(th1 + th2)) - Kp*(L2*np.cos(th1 + th2) - yt + L1*np.cos(th1)))*(L2*np.sin(th1 + th2) + L1*np.sin(th1)) - (L2*np.cos(th1 + th2) + L1*np.cos(th1))*(Kd*(xdott + thdot1*(L2*np.cos(th1 + th2) + L1*np.cos(th1)) + L2*thdot2*np.cos(th1 + th2)) + Kp*(xt + L2*np.sin(th1 + th2) + L1*np.sin(th1)))\n",
    "    T2 = - L2*np.cos(th1 + th2)*(Kd*(xdott + thdot1*(L2*np.cos(th1 + th2) + L1*np.cos(th1)) + L2*thdot2*np.cos(th1 + th2)) + Kp*(xt + L2*np.sin(th1 + th2) + L1*np.sin(th1))) - L2*np.sin(th1 + th2)*(Kd*(ydott + thdot1*(L2*np.sin(th1 + th2) + L1*np.sin(th1)) + L2*thdot2*np.sin(th1 + th2)) - Kp*(L2*np.cos(th1 + th2) - yt + L1*np.cos(th1)))\n",
    "        \n",
    "        \n",
    "    theta1dotdot = (2*I2*T1 - 2*I2*T2 + 2*T1*d2^2*M2 - 2*T2*d2^2*M2 - 2*Fdx*I2*l1*np.cos(th1) - 2*Fdy*I2*l1*np.sin(th1) + 2*d2^3*l1*M2^2*thdot1^2*np.sin(th2) + 2*d2^3*l1*M2^2*thdot2^2*np.sin(th2) - 2*Fdx*d2^2*l1*M2*np.cos(th1) - 2*Fdy*d2^2*l1*M2*np.sin(th1) + d2^2*g*l1*M2^2*np.sin(th1) + 2*I2*d1*g*M1*np.sin(th1) - 2*T2*d2*l1*M2*np.cos(th2) + 2*I2*g*l1*M2*np.sin(th1) + d2^2*l1^2*M2^2*thdot1^2*np.sin(2*th2) - d2^2*g*l1*M2^2*np.sin(th1 + 2*th2) + Fdx*d2*l1*l2*M2*np.cos(th1) + 4*d2^3*l1*M2^2*thdot1*thdot2*np.sin(th2) + Fdy*d2*l1*l2*M2*np.sin(th1) + Fdx*d2*l1*l2*M2*np.cos(th1 + 2*th2) + Fdy*d2*l1*l2*M2*np.sin(th1 + 2*th2) + 2*I2*d2*l1*M2*thdot1^2*np.sin(th2) + 2*I2*d2*l1*M2*thdot2^2*np.sin(th2) + 2*d1*d2^2*g*M1*M2*np.sin(th1) + 4*I2*d2*l1*M2*thdot1*thdot2*np.sin(th2))/(2*I1*I2 + d2^2*l1^2*M2^2 + 2*I2*d1^2*M1 + 2*I1*d2^2*M2 + 2*I2*l1^2*M2 + 2*d1^2*d2^2*M1*M2 - d2^2*l1^2*M2^2*np.cos(2*th2))\n",
    "    theta2dotdot = -(2*I2*T1 - 2*I1*T2 - 2*I2*T2 - 2*T2*d1^2*M1 + 2*T1*d2^2*M2 - 2*T2*d2^2*M2 - 2*T2*l1^2*M2 + 2*Fdx*I1*l2*np.cos(th1 + th2) + 2*Fdy*I1*l2*np.sin(th1 + th2) - 2*Fdx*I2*l1*np.cos(th1) - 2*Fdy*I2*l1*np.sin(th1) + 2*Fdy*l1^2*l2*M2*np.sin(th1 + th2) + 2*d2*l1^3*M2^2*thdot1^2*np.sin(th2) + 2*d2^3*l1*M2^2*thdot1^2*np.sin(th2) + 2*d2^3*l1*M2^2*thdot2^2*np.sin(th2) - 2*Fdx*d2^2*l1*M2*np.cos(th1) - 2*Fdy*d2^2*l1*M2*np.sin(th1) - Fdx*d2*l1^2*M2*np.cos(th1 - th2) - Fdy*d2*l1^2*M2*np.sin(th1 - th2) - d2*g*l1^2*M2^2*np.sin(th1 + th2) - 2*I1*d2*g*M2*np.sin(th1 + th2) + d2^2*g*l1*M2^2*np.sin(th1) + 2*I2*d1*g*M1*np.sin(th1) + 2*T1*d2*l1*M2*np.cos(th2) - 4*T2*d2*l1*M2*np.cos(th2) + 2*I2*g*l1*M2*np.sin(th1) + 2*d2^2*l1^2*M2^2*thdot1^2*np.sin(2*th2) + d2^2*l1^2*M2^2*thdot2^2*np.sin(2*th2) + d2*g*l1^2*M2^2*np.sin(th1 - th2) - d2^2*g*l1*M2^2*np.sin(th1 + 2*th2) + 2*Fdx*d1^2*l2*M1*np.cos(th1 + th2) - Fdx*d2*l1^2*M2*np.cos(th1 + th2) + 2*Fdx*l1^2*l2*M2*np.cos(th1 + th2) + 2*Fdy*d1^2*l2*M1*np.sin(th1 + th2) - Fdy*d2*l1^2*M2*np.sin(th1 + th2) + Fdx*d2*l1*l2*M2*np.cos(th1) + 4*d2^3*l1*M2^2*thdot1*thdot2*np.sin(th2) + Fdy*d2*l1*l2*M2*np.sin(th1) + Fdx*d2*l1*l2*M2*np.cos(th1 + 2*th2) + Fdy*d2*l1*l2*M2*np.sin(th1 + 2*th2) - 2*d1^2*d2*g*M1*M2*np.sin(th1 + th2) + 2*I1*d2*l1*M2*thdot1^2*np.sin(th2) + 2*I2*d2*l1*M2*thdot1^2*np.sin(th2) + 2*I2*d2*l1*M2*thdot2^2*np.sin(th2) + 2*d1*d2^2*g*M1*M2*np.sin(th1) + 2*d2^2*l1^2*M2^2*thdot1*thdot2*np.sin(2*th2) + 2*d1^2*d2*l1*M1*M2*thdot1^2*np.sin(th2) + d1*d2*g*l1*M1*M2*np.sin(th1 + th2) + 4*I2*d2*l1*M2*thdot1*thdot2*np.sin(th2) + d1*d2*g*l1*M1*M2*np.sin(th1 - th2))/(2*I1*I2 + d2^2*l1^2*M2^2 + 2*I2*d1^2*M1 + 2*I1*d2^2*M2 + 2*I2*l1^2*M2 + 2*d1^2*d2^2*M1*M2 - d2^2*l1^2*M2^2*np.cos(2*th2))\n",
    "    \n",
    "    theta1dot = theta1dotdot*dt + theta1dot\n",
    "    theta2dot = theta2dotdot*dt + theta2dot\n",
    "\n",
    "    theta1 = theta1dot*dt + theta1\n",
    "    theta2 = theta2dot*dt + theta2\n",
    "    return theta1, theta2, theta1dot, theta2dot\n",
    "    "
   ]
  },
  {
   "cell_type": "markdown",
   "id": "78e899a0-00b0-4c2a-9432-a916ce33397d",
   "metadata": {},
   "source": [
    "Init OpenCV"
   ]
  },
  {
   "cell_type": "code",
   "execution_count": null,
   "id": "e6e64ba6-67e5-485a-adf2-e75fb0483e90",
   "metadata": {},
   "outputs": [],
   "source": [
    "import cv2\n",
    "from IPython.display import clear_output\n",
    "\n",
    "cv2.destroyAllWindows()\n",
    "\n",
    "        \n",
    "def kpChanged(arg):\n",
    "    global Kp\n",
    "    Kp = arg/100\n",
    "    clear_output(wait=True)\n",
    "    print(\"Kp\", Kp, \"Kd\", Kd, \"M1\", M1, \"M2\", M2)\n",
    "\n",
    "def kdChanged(arg):\n",
    "    global Kd\n",
    "    Kd = arg/100\n",
    "    clear_output(wait=True)\n",
    "    print(\"Kp\", Kp, \"Kd\", Kd, \"M1\", M1, \"M2\", M2)\n",
    "\n",
    "def m1Changed(arg):\n",
    "    global M1\n",
    "    M1 = arg\n",
    "    clear_output(wait=True)\n",
    "    print(\"Kp\", Kp, \"Kd\", Kd, \"M1\", M1, \"M2\", M2)\n",
    "\n",
    "def m2Changed(arg):\n",
    "    global M2\n",
    "    M2 = arg\n",
    "    clear_output(wait=True)\n",
    "    print(\"Kp\", Kp, \"Kd\", Kd, \"M1\", M1, \"M2\", M2)\n",
    "    \n",
    "cv2.namedWindow('output', cv2.WINDOW_AUTOSIZE)\n",
    "cv2.createTrackbar('Kp', 'output', 0, 1000, kpChanged)\n",
    "cv2.createTrackbar('Kd', 'output', 0, 1000, kdChanged)\n",
    "cv2.createTrackbar('M1', 'output', 0, 100, m1Changed)\n",
    "cv2.createTrackbar('M2', 'output', 0, 100, m2Changed)\n",
    "\n",
    "cv2.setTrackbarPos('Kp','output', int(Kp*100))\n",
    "cv2.setTrackbarPos('Kd','output', int(Kd*100))\n",
    "cv2.setTrackbarPos('M1','output', M1)\n",
    "cv2.setTrackbarPos('M2','output', M2)\n",
    "\n",
    "\n",
    "width = 400\n",
    "height = 400\n",
    "\n",
    "def draw(theta1, theta2):\n",
    "    window = np.zeros((height, width, 3), dtype=np.uint8)\n",
    "    elbow = (200-L1*np.sin(theta1)*70, 200+L1*np.cos(theta1)*70)\n",
    "    end_effector_x = (elbow[0]-L2*np.sin(theta2)*70, elbow[1]+L2*np.cos(theta2)*70)\n",
    "\n",
    "    elbow = (int(elbow[0]), int(elbow[1]))\n",
    "    end_effector = (int(end_effector[0]), int(end_effector[1]))\n",
    "\n",
    "    window = cv2.line(window, (200, 200), elbow, (255, 0, 0), 6)\n",
    "    window = cv2.line(window, elbow, end_effector, (255, 0, 0), 6)\n",
    "    return window"
   ]
  },
  {
   "cell_type": "markdown",
   "id": "0c41e033-9a92-42ba-b6b0-158bf4ee31ca",
   "metadata": {},
   "source": [
    "Main Loop"
   ]
  },
  {
   "cell_type": "code",
   "execution_count": null,
   "id": "015519f2-8eb6-44d9-860e-0341e6bb7d43",
   "metadata": {
    "tags": []
   },
   "outputs": [],
   "source": [
    "while True:\n",
    "    try:\n",
    "        theta1, theta2, theta1dot, theta2dot = updateTheta(t, dt, theta1, theta2, theta1dot, theta2dot)\n",
    "        window = draw(theta1, theta2)\n",
    "        t = t + dt\n",
    "        cv2.imshow('output', window)\n",
    "\n",
    "    except Exception as e:\n",
    "        print(e)\n",
    "        theta1 = np.pi*3/4\n",
    "        theta1dot = 0\n",
    "        theta2 = np.pi*3/4\n",
    "        theta2dot = 0\n",
    "        t = 0\n",
    "\n",
    "    if cv2.waitKey(1) & 0xFF == ord('q'):\n",
    "        break\n",
    "        \n",
    "cv2.destroyAllWindows()"
   ]
  },
  {
   "cell_type": "code",
   "execution_count": null,
   "id": "e61e4b0b-5e55-43a5-919a-4e1217f8a790",
   "metadata": {},
   "outputs": [],
   "source": []
  }
 ],
 "metadata": {
  "kernelspec": {
   "display_name": "Python 3",
   "language": "python",
   "name": "python3"
  },
  "language_info": {
   "codemirror_mode": {
    "name": "ipython",
    "version": 3
   },
   "file_extension": ".py",
   "mimetype": "text/x-python",
   "name": "python",
   "nbconvert_exporter": "python",
   "pygments_lexer": "ipython3",
   "version": "3.8.8"
  }
 },
 "nbformat": 4,
 "nbformat_minor": 5
}

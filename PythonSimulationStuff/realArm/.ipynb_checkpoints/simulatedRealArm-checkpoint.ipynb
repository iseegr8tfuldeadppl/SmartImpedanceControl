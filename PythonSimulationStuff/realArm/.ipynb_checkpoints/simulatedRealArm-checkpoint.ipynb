{
 "cells": [
  {
   "cell_type": "markdown",
   "id": "c60766ac-b1e1-4b31-a35b-2f8fc1e132b2",
   "metadata": {
    "tags": []
   },
   "source": [
    "## Imports"
   ]
  },
  {
   "cell_type": "code",
   "execution_count": 4,
   "id": "410a67f8-1eb1-4002-8ff3-5f496a594826",
   "metadata": {},
   "outputs": [],
   "source": [
    "# file:///C:/Users/Kream/Desktop/SmartImpedanceControl/ResearchPapers/3.pdf\n",
    "import cv2\n",
    "import numpy as np\n",
    "from math import sqrt, floor, ceil\n",
    "from IPython.display import clear_output\n",
    "from threading import Thread"
   ]
  },
  {
   "cell_type": "markdown",
   "id": "8ed5e18e-778a-4f3f-ba9f-0f1a56922bbd",
   "metadata": {},
   "source": [
    "## Global Variables"
   ]
  },
  {
   "cell_type": "code",
   "execution_count": 18,
   "id": "3ac70109-f612-46a0-af84-13d66e9ef01f",
   "metadata": {},
   "outputs": [],
   "source": [
    "# physics info\n",
    "L1 = 70\n",
    "L2 = 70\n",
    "\n",
    "# window size \n",
    "width = 400\n",
    "height = 400\n",
    "\n",
    "center = (int(width/2), int(height/2))\n",
    "theta1 = np.pi*1/4\n",
    "theta2 = np.pi*1/4\n",
    "motor1_angle = int(theta1*180/np.pi)\n",
    "motor2_angle = int(theta2*180/np.pi)\n",
    "\n",
    "# so motor angles are set automatically on launch since it'll be different than motor1_angle\n",
    "current_motor1_angle = None\n",
    "current_motor2_angle = None"
   ]
  },
  {
   "cell_type": "markdown",
   "id": "7d84b2e9-c65c-4307-8d1b-a229a6327d8c",
   "metadata": {
    "tags": []
   },
   "source": [
    "## Kinematics"
   ]
  },
  {
   "cell_type": "code",
   "execution_count": 19,
   "id": "5c169052-c011-49aa-997e-fe951a164154",
   "metadata": {},
   "outputs": [],
   "source": [
    "# inverse kin\n",
    "# https://github.com/AymenHakim99/Forward-and-Inverse-Kinematics-for-2-DOF-Robotic-arm?fbclid=IwAR3Mu8nFWDik95ROO-O-ViZtPJ8EQK5ItO9Y9rz37tiFY2LDuernw1n67jM\n",
    "\n",
    "import sympy as smp\n",
    "\n",
    "# maybe we choose the signs base on which is closest? but also the one within possible range idk\n",
    "\n",
    "x, y, a1, a2 = smp.symbols('x, y, a1, a2')\n",
    "\n",
    "# defaults: sign1theta2 = 1  ;  sign2theta2 = 1\n",
    "th2 = smp.acos( (x**2 + y**2 - a1**2 - a2**2) / (2*a1*a2) )\n",
    "theta2_f = smp.lambdify( (x, y, a1, a2) , th2)\n",
    "\n",
    "\n",
    "costh2, sinth2 = smp.symbols('costh2, sinth2')\n",
    "\n",
    "th1 = smp.atan(y/(x+0.00001)) - smp.atan(a2*sinth2/(a1+a2*costh2))\n",
    "theta1_f = smp.lambdify( (x, y, a1, a2, costh2, sinth2) , th1)\n"
   ]
  },
  {
   "cell_type": "code",
   "execution_count": 20,
   "id": "4a8b51f8-53de-4a9c-b367-48012129fe41",
   "metadata": {
    "tags": []
   },
   "outputs": [],
   "source": [
    "def inverseKin(px, py):\n",
    "    \n",
    "    # we gotta offset desired from the center\n",
    "    px -= center[0]\n",
    "    py -= center[1]\n",
    "    \n",
    "    # restricting arm to the maximum reach possible\n",
    "    desired_circle = sqrt(px**2 + py**2)\n",
    "    possible_circle = L1+L2 # maximum radius\n",
    "    ratio = desired_circle / possible_circle\n",
    "    \n",
    "    if ratio > 1:\n",
    "        if px < 0:\n",
    "            px = ceil(px/ratio) # because floor for negative numbers is the opposite lmao\n",
    "        else:\n",
    "            px = floor(px/ratio)\n",
    "            \n",
    "        if py < 0:\n",
    "            py = ceil(py/ratio) # because floor for negative numbers is the opposite lmao\n",
    "        else:\n",
    "            py = floor(py/ratio)\n",
    "        \n",
    "        desired_circle = sqrt(px**2 + py**2)\n",
    "        possible_circle = sqrt((L1+L2)**2 + 0**2)\n",
    "        ratio = desired_circle / possible_circle\n",
    "        \n",
    "    theta2 = theta2_f(py, px, L1, L2)\n",
    "    theta1 = theta1_f(py, px, L1, L2, np.cos(theta2), np.sin(theta2))\n",
    "    \n",
    "    if py < 0:\n",
    "        theta1 -= np.pi\n",
    "    \n",
    "    ogtheta1 = theta1\n",
    "    ogtheta2 = theta2\n",
    "        \n",
    "    # trying to flip the approach to desired\n",
    "    desired_point_tawila = sqrt(px**2+py**2)\n",
    "    desired_point_angle = np.arccos(py/desired_point_tawila)\n",
    "    if px < 0:\n",
    "        desired_point_angle = - desired_point_angle\n",
    "        \n",
    "    theta1 += 2*(abs(theta1-desired_point_angle))\n",
    "    theta2 = -theta2\n",
    "    \n",
    "    return theta1, theta2, ogtheta1, ogtheta2 # this function provides both approaches to the desired point so u can choose based on convenience\n",
    "\n",
    "def forwardKin(theta1, theta2):\n",
    "    x = L2*np.sin(theta1 + theta2) + L1*np.sin(theta1)\n",
    "    y = L2*np.cos(theta1 + theta2) + L1*np.cos(theta1)\n",
    "    return list((int(x) + center[0], int(y) + center[1]))\n",
    "\n",
    "def forwardElbowKin(theta1):\n",
    "    x = L1*np.sin(theta1)\n",
    "    y = L1*np.cos(theta1)\n",
    "    return list((int(x) + center[0], int(y) + center[1]))\n",
    "\n",
    "def desiredIntroduced(event, x, y, flags, param):\n",
    "    global desired, theta1, theta2, end_effector, elbow, ogend_effector, ogelbow, motor1_angle, motor2_angle\n",
    "    if event==cv2.EVENT_LBUTTONDOWN: # or event==cv2.EVENT_MOUSEMOVE\n",
    "        \n",
    "        desired = [x, y]\n",
    "        theta1, theta2, ogtheta1, ogtheta2 = inverseKin(x, y)  # this function provides both approaches to the desired point so u can choose based on convenience\n",
    "\n",
    "        \n",
    "        # BLUE ONE\n",
    "        # limitation programming to be able to extend the arm past that 180 since the 2nd link can still turn more \n",
    "        theta1LimitReached = False\n",
    "        if -np.pi < theta1 and theta1 < -np.pi/2:\n",
    "            theta1 = -np.pi/2\n",
    "            theta1LimitReached = True\n",
    "        if theta1 > np.pi/2 or theta1 < -np.pi:\n",
    "            theta1 = np.pi/2\n",
    "            theta1LimitReached = True\n",
    "            \n",
    "        elbow = forwardElbowKin(theta1)\n",
    "        \n",
    "        # the case where theta1 reaches its limit\n",
    "        if theta1LimitReached:\n",
    "            centered_desired_x = x - center[0]\n",
    "            centered_desired_y = y - center[1]\n",
    "            \n",
    "            centered_elbow_x = elbow[0] - center[0]\n",
    "            centered_elbow_y = elbow[1] - center[1]\n",
    "            \n",
    "            tawila = sqrt((centered_desired_x-centered_elbow_x)**2 + (centered_desired_y-centered_elbow_y)**2)\n",
    "            theta2 = np.pi - np.arccos((centered_desired_x-centered_elbow_x) / tawila)\n",
    "            if y < center[1] and x < center[0]:\n",
    "                theta2 = -theta2\n",
    "            if y < center[1] and x > center[0]:\n",
    "                theta2 = np.pi - theta2\n",
    "            if y > center[1] and x > center[0]:\n",
    "                theta2 = -np.pi +  theta2\n",
    "        # TODO: find theta2 that lets the second link follow the desired point with the first link fixed at its limitation\n",
    "        \n",
    "        \n",
    "        if theta2 < -np.pi/2:\n",
    "            theta2 = -np.pi/2\n",
    "        if theta2 > np.pi/2:\n",
    "            theta2 = np.pi/2\n",
    "        \n",
    "        end_effector = forwardKin(theta1, theta2)\n",
    "\n",
    "        # determine the angles of the motors based on angles of thetas\n",
    "        deg_theta1 = theta1*180/np.pi\n",
    "        temp_motor1_angle = int(deg_theta1+90)\n",
    "        if -180 < temp_motor1_angle and temp_motor1_angle < 0:\n",
    "            temp_motor1_angle = 0\n",
    "        elif temp_motor1_angle < -180 or temp_motor1_angle > 180:\n",
    "            temp_motor1_angle = 180\n",
    "        \n",
    "        deg_theta2 = theta2*180/np.pi\n",
    "        motor1_angle, motor2_angle = [temp_motor1_angle, int(deg_theta2+90)] # i moved it to here just so they're both updated at once\n",
    "        \n",
    "        \n",
    "        \n",
    "        # GREEN ONE\n",
    "        # limitation programming to be able to extend the arm past that 180 since the 2nd link can still turn more \n",
    "        ogtheta1LimitReached = False\n",
    "        if -np.pi < ogtheta1 and ogtheta1 < -np.pi/2:\n",
    "            ogtheta1 = -np.pi/2\n",
    "            ogtheta1LimitReached = True\n",
    "        if ogtheta1 > np.pi/2 or ogtheta1 < -np.pi:\n",
    "            ogtheta1 = np.pi/2\n",
    "            ogtheta1LimitReached = True\n",
    "        \n",
    "        ogelbow = forwardElbowKin(ogtheta1)\n",
    "        \n",
    "        # the case where theta1 reaches its limit\n",
    "        if ogtheta1LimitReached:\n",
    "            centered_desired_x = x - center[0]\n",
    "            centered_desired_y = y - center[1]\n",
    "            \n",
    "            centered_ogelbow_x = ogelbow[0] - center[0]\n",
    "            centered_ogelbow_y = ogelbow[1] - center[1]\n",
    "            \n",
    "            tawila = sqrt((centered_desired_x-centered_ogelbow_x)**2 + (centered_desired_y-centered_ogelbow_y)**2)\n",
    "            ogtheta2 = np.pi - np.arccos((centered_desired_x-centered_ogelbow_x) / tawila)\n",
    "            if y < center[1] and x < center[0]:\n",
    "                ogtheta2 = -ogtheta2\n",
    "            if y < center[1] and x > center[0]:\n",
    "                ogtheta2 = np.pi - ogtheta2\n",
    "        # TODO: find ogtheta2 that lets the second link follow the desired point with the first link fixed at its limitation\n",
    "        \n",
    "        ogend_effector = forwardKin(ogtheta1, ogtheta2)\n",
    "        \n",
    "end_effector = forwardKin(theta1, theta2)\n",
    "elbow = forwardElbowKin(theta1)\n",
    "ogend_effector = forwardKin(theta1, theta2)\n",
    "ogelbow = forwardElbowKin(theta1)\n",
    "desired = end_effector.copy()"
   ]
  },
  {
   "cell_type": "markdown",
   "id": "b767d21b-96ab-4c65-81dc-e7144e549bc4",
   "metadata": {
    "tags": []
   },
   "source": [
    "## Communication"
   ]
  },
  {
   "cell_type": "code",
   "execution_count": 35,
   "id": "564009c9-36b4-41f4-9c28-d855cb901581",
   "metadata": {},
   "outputs": [],
   "source": [
    "running = True\n",
    "def communicationThread():\n",
    "    global current_motor1_angle, current_motor2_angle, running\n",
    "    while running:\n",
    "        if motor1_angle != current_motor1_angle or motor2_angle != current_motor2_angle:\n",
    "            # save the data\n",
    "            current_motor1_angle = motor1_angle\n",
    "            current_motor2_angle = motor2_angle\n",
    "            \n",
    "            clear_output(wait=True)\n",
    "            print(\"Applying angles:\", current_motor1_angle, \"°\", current_motor2_angle, \"°\")\n",
    "\n",
    "        # whether we should stop the program or not\n",
    "        cv2.waitKey(1)"
   ]
  },
  {
   "cell_type": "markdown",
   "id": "216deff6-e35e-4945-862b-49718564819a",
   "metadata": {},
   "source": [
    "## Gui"
   ]
  },
  {
   "cell_type": "code",
   "execution_count": 36,
   "id": "2322aeb5-d6ac-459a-94b9-3dba3ec8c715",
   "metadata": {},
   "outputs": [],
   "source": [
    "# allow the user to edit the desired point real time\n",
    "cv2.destroyAllWindows()\n",
    "cv2.namedWindow('output', cv2.WINDOW_AUTOSIZE)\n",
    "cv2.setMouseCallback('output', desiredIntroduced)\n",
    "\n",
    "def draw():\n",
    "    window = np.ones((height, width, 3), dtype=np.uint8) #*255\n",
    "\n",
    "    window = cv2.line(window, tuple(center), tuple(elbow), (255, 0, 0), 6)\n",
    "    window = cv2.line(window, tuple(elbow), tuple(end_effector), (255, 0, 0), 6)\n",
    "    #window = cv2.line(window, tuple(center), tuple(desired), (255, 255, 255), 6)\n",
    "    \n",
    "    #window = cv2.line(window, tuple(center), tuple(ogelbow), (0, 255, 0), 6)\n",
    "    #window = cv2.line(window, tuple(ogelbow), tuple(ogend_effector), (0, 255, 0), 6)\n",
    "    \n",
    "    window = cv2.circle(window, tuple(desired), 5, (255, 255, 255), 2)   # we have casual coordinates but we want zero to be the middle of screen with a range of -4 to 4 just bcz it works with our other values\n",
    "    return window"
   ]
  },
  {
   "cell_type": "markdown",
   "id": "a53f5639-951d-4699-af69-410e71ddfa6e",
   "metadata": {},
   "source": [
    "## Main"
   ]
  },
  {
   "cell_type": "code",
   "execution_count": 37,
   "id": "10c7372e-5db5-40aa-af38-80cfbcc679e0",
   "metadata": {
    "tags": []
   },
   "outputs": [
    {
     "name": "stdout",
     "output_type": "stream",
     "text": [
      "Applying angles: 141 ° 6 °\n"
     ]
    }
   ],
   "source": [
    "# start communication thread\n",
    "thread = Thread(target=communicationThread)\n",
    "thread.start()\n",
    "\n",
    "# start main Gui thread\n",
    "while True:\n",
    "    window = draw()\n",
    "    cv2.imshow('output', window)\n",
    "\n",
    "    # whether we should stop the program or not\n",
    "    if cv2.waitKey(1) & 0xFF == ord('q'):\n",
    "        running = False\n",
    "        thread.join()\n",
    "        break\n",
    "\n",
    "# clean up\n",
    "cv2.destroyAllWindows()"
   ]
  },
  {
   "cell_type": "code",
   "execution_count": null,
   "id": "e0b0db76-3b57-42d1-87cc-8b5d34d091eb",
   "metadata": {},
   "outputs": [],
   "source": []
  }
 ],
 "metadata": {
  "kernelspec": {
   "display_name": "Python 3 (ipykernel)",
   "language": "python",
   "name": "python3"
  },
  "language_info": {
   "codemirror_mode": {
    "name": "ipython",
    "version": 3
   },
   "file_extension": ".py",
   "mimetype": "text/x-python",
   "name": "python",
   "nbconvert_exporter": "python",
   "pygments_lexer": "ipython3",
   "version": "3.9.7"
  }
 },
 "nbformat": 4,
 "nbformat_minor": 5
}

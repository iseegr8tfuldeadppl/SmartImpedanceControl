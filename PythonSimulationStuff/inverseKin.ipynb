{
 "cells": [
  {
   "cell_type": "code",
   "execution_count": 1,
   "id": "e73eccab-c8a7-4293-ba8a-66e18f53120d",
   "metadata": {},
   "outputs": [
    {
     "data": {
      "text/plain": [
       "-0.7901020408163265"
      ]
     },
     "execution_count": 1,
     "metadata": {},
     "output_type": "execute_result"
    }
   ],
   "source": [
    "# inverse kin\n",
    "\n",
    "import sympy as smp\n",
    "\n",
    "# maybe we choose the signs base on which is closest? but also the one within possible range idk\n",
    "\n",
    "sign1theta2, sign2theta2, px, py, L1, L2 = smp.symbols('sign1theta2, sign2theta2, px, py, L1, L2')\n",
    "\n",
    "# defaults: sign1theta2 = 1  ;  sign2theta2 = 1\n",
    "formula_costheta2 = (px**2 + py**2 - L1**2 - L2**2) /(2*L1*L2)\n",
    "formula_sintheta2 = sign1theta2*smp.sqrt( 1 - formula_costheta2**2 )\n",
    "\n",
    "theta2 = sign2theta2*smp.atan(formula_sintheta2/formula_costheta2)\n",
    "theta2_f = smp.lambdify( (sign1theta2, sign2theta2, px, py, L1, L2) , theta2)\n",
    "\n",
    "\n",
    "sign1theta1, sign2theta1, costh2, sinth2 = smp.symbols('sign1theta1, sign2theta1, costh2, sinth2')\n",
    "\n",
    "# ALERT ALERT ALERT: YOU PUT + sign1theta1*L2*sinth2*px   in the formula even tho there was a - because u wanted to decide that on ur own\n",
    "# defaults: sign1theta1 = -1  ;  sign2theta1 = 1\n",
    "formula_sintheta1 = ( (L1+L2*costh2)*py + sign1theta1* L2*sinth2*px ) / (px**2 + py**2)\n",
    "formula_costheta1 = ( (L1+L2*costh2)*px + sign2theta1* L2*sinth2*py ) / (px**2 + py**2)\n",
    "\n",
    "theta1 = sign2theta1*smp.atan(formula_sintheta1/formula_costheta1)\n",
    "theta1_f = smp.lambdify( (sign1theta1, sign2theta1, px, py, L1, L2, costh2, sinth2) , theta1)\n",
    "\n",
    "_, _, px, py, L1, L2 = 1, 1, 244-200, 189-200, 70, 70\n",
    "(px**2 + py**2 - L1**2 - L2**2) /(2*L1*L2)\n",
    "\n",
    "#theta2_f(1, 1, 244, 189, 70, 70)\n"
   ]
  },
  {
   "cell_type": "code",
   "execution_count": null,
   "id": "52324846-21bd-46ee-8e45-81e5c981df52",
   "metadata": {},
   "outputs": [],
   "source": []
  }
 ],
 "metadata": {
  "kernelspec": {
   "display_name": "Python 3 (ipykernel)",
   "language": "python",
   "name": "python3"
  },
  "language_info": {
   "codemirror_mode": {
    "name": "ipython",
    "version": 3
   },
   "file_extension": ".py",
   "mimetype": "text/x-python",
   "name": "python",
   "nbconvert_exporter": "python",
   "pygments_lexer": "ipython3",
   "version": "3.9.7"
  }
 },
 "nbformat": 4,
 "nbformat_minor": 5
}

{
 "cells": [
  {
   "cell_type": "code",
   "execution_count": 1,
   "id": "8ad0ad44-4f42-4fc8-9893-f3a2a7d3feb5",
   "metadata": {},
   "outputs": [],
   "source": [
    "#https://www.youtube.com/watch?v=8ZZDNd4eyVI&t=1s&ab_channel=Mr.PSolver\n",
    "import numpy as np\n",
    "import sympy as smp\n",
    "import pickle\n",
    "filename = \"newVariables.pickle\""
   ]
  },
  {
   "cell_type": "markdown",
   "id": "6ffa1a05-4e8b-4314-959c-af1847613f2f",
   "metadata": {},
   "source": [
    "Symbols Init"
   ]
  },
  {
   "cell_type": "code",
   "execution_count": 14,
   "id": "6cfae5be-150c-4c4c-b01e-3ffb33355db3",
   "metadata": {},
   "outputs": [],
   "source": [
    "g = smp.symbols('g')\n",
    "M1, M2 = smp.symbols('M1, M2')\n",
    "L1, L2 = smp.symbols('L1, L2')\n",
    "T1, T2 = smp.symbols('T1, T2')\n",
    "Fx, Fy = smp.symbols('Fx, Fy')\n",
    "\n",
    "\n",
    "KP, KD, desiredX, desiredY, desiredXdott, desiredYdott, currentX, currentY = smp.symbols('KP, KD, desiredX, desiredY, desiredXdott, desiredYdott, currentX, currentY')\n",
    "\n",
    "th1, th2 = smp.symbols('th1, th2')\n",
    "th1d, th2d = smp.symbols('th1d, th2d')\n",
    "th1dd, th2dd = smp.symbols('th1dd, th2dd')"
   ]
  },
  {
   "cell_type": "markdown",
   "id": "0befda25-89f1-411f-8cae-26347bfc1324",
   "metadata": {},
   "source": [
    "Dynamic Model"
   ]
  },
  {
   "cell_type": "code",
   "execution_count": 42,
   "id": "76ee3db4-d5b6-4d5e-92ab-bf2bf9b3a51c",
   "metadata": {
    "tags": []
   },
   "outputs": [
    {
     "data": {
      "text/plain": [
       "(2, 1)"
      ]
     },
     "execution_count": 42,
     "metadata": {},
     "output_type": "execute_result"
    }
   ],
   "source": [
    "\n",
    "I1 = 1/12*L1*L1*M1\n",
    "I2 = 1/12*L2*L2*M2\n",
    "\n",
    "d1 = L1/2\n",
    "d2 = L2/2\n",
    "\n",
    "Fd = smp.Matrix([Fx, Fy]).T;\n",
    "\n",
    "P1 = smp.Matrix([ - L2*smp.cos(th1 + th2) - L1*smp.cos(th1) ,\n",
    "                   - L2*smp.sin(th1 + th2) - L1*smp.sin(th1) ])\n",
    "\n",
    "P2 = smp.Matrix([ - L2*smp.cos(th1 + th2) ,\n",
    "                   - L2*smp.sin(th1 + th2) ])\n",
    "\n",
    "M = smp.Matrix([ [I2 + I1 + 2*M2*d2*L1*smp.cos(th2) + M2*L1*L1 + M2*d2*d2 + M1*d1*d1  , I2 + d2*d2 * M2 + M2*d2*L1*smp.cos(th2)] ,\n",
    "                  [I2 + d2*M2*L1*smp.cos(th2) + M2*d2*d2                             , I2 + d2*d2 * M2                      ]])\n",
    "\n",
    "B = smp.Matrix([ - d2*M2*L1*th2d*th2d*smp.sin(th2) - 2*M2*d2*L1*th1d*th2d*smp.sin(th2),\n",
    "                    d2*M2*L1*smp.sin(th2)*th1d*th1d])\n",
    "\n",
    "G = smp.Matrix([ - g*M2*d2*smp.sin(th1 + th2) - (M2*L1 + d1*M1)*g*smp.sin(th1) ,\n",
    "                  - d2*g*M2*smp.sin(th1 + th2)                              ])\n",
    "\n",
    "F = smp.Matrix([ Fd*P1 ,\n",
    "      Fd*P2 ])\n",
    "\n",
    "T = smp.Matrix([ T1 ,\n",
    "                  T2 ])\n",
    "\n",
    "thedd = M.inv() * ( - B - G + T + F)\n"
   ]
  },
  {
   "cell_type": "markdown",
   "id": "0cd83253-6ce2-4164-aab6-5f650b5c36d5",
   "metadata": {},
   "source": [
    "Gravity Compensation"
   ]
  },
  {
   "cell_type": "code",
   "execution_count": 47,
   "id": "764d7d78-6150-461b-8c24-9a91c66b1ad0",
   "metadata": {
    "tags": []
   },
   "outputs": [],
   "source": [
    "Tformulas = smp.solve([thedd[0], thedd[1]], (T1, T2), simplify=True, rational=True)\n",
    "Tformulas = [Tformulas[T1], Tformulas[T2]]"
   ]
  },
  {
   "cell_type": "markdown",
   "id": "e448c1fb-3c68-4477-a89b-6fe46055296a",
   "metadata": {},
   "source": [
    "Impedance Control"
   ]
  },
  {
   "cell_type": "code",
   "execution_count": 48,
   "id": "6233d1b4-80b5-47fc-acd7-deb16c01f5a1",
   "metadata": {
    "tags": []
   },
   "outputs": [],
   "source": [
    "J = smp.Matrix([[- L2*smp.cos(th1 + th2) - L1*smp.cos(th1), -L2*smp.cos(th1 + th2)],\n",
    "                [- L2*smp.sin(th1 + th2) - L1*smp.sin(th1), -L2*smp.sin(th1 + th2)],\n",
    "                [                                0,                  0]])\n",
    "\n",
    "\n",
    "desiredPosition = smp.Matrix([desiredX, desiredY, 0 ])\n",
    "desiredVelocity = smp.Matrix([desiredXdott, desiredYdott, 0])\n",
    "\n",
    "thed = smp.Matrix([th1d, th2d])\n",
    "\n",
    "currentPosition = smp.Matrix([currentX,  currentY, 0])\n",
    "\n",
    "impedanceControl = J.T*(KP*(desiredPosition - currentPosition) + KD*(desiredVelocity - J*thed))\n",
    "\n",
    "impedanceControl1, impedanceControl2 = impedanceControl "
   ]
  },
  {
   "cell_type": "markdown",
   "id": "bdbd01f8-e7c4-4231-9642-63e88ed71503",
   "metadata": {},
   "source": [
    "Save/Pickle variables"
   ]
  },
  {
   "cell_type": "code",
   "execution_count": 49,
   "id": "da2ee279-5f94-4779-9a65-8ab87c7eeaf0",
   "metadata": {
    "tags": []
   },
   "outputs": [],
   "source": [
    "stuff = {\n",
    "    \"thdotdot1\": thedd[0],\n",
    "    \"thdotdot2\": thedd[1],\n",
    "    \"impedanceControl1\": impedanceControl1,\n",
    "    \"impedanceControl2\": impedanceControl2,\n",
    "    \"gravityCompensation1\": Tformulas[0],\n",
    "    \"gravityCompensation2\": Tformulas[1]\n",
    "}\n",
    "\n",
    "with open(filename, 'wb') as f:\n",
    "    pickle.dump(stuff, f)"
   ]
  },
  {
   "cell_type": "markdown",
   "id": "8a2054ee-e37b-4d45-a933-5614acda8321",
   "metadata": {},
   "source": [
    "Load/Unpickle variables"
   ]
  },
  {
   "cell_type": "code",
   "execution_count": 50,
   "id": "1169356d-0bbe-4496-88c6-7f731a7b64c5",
   "metadata": {},
   "outputs": [],
   "source": [
    "with open(filename, 'rb') as f:\n",
    "    stuff = pickle.load(f)\n",
    "    \n",
    "thedd = [ stuff['thdotdot1'], stuff['thdotdot2'] ]\n",
    "impedanceControl1 = stuff['impedanceControl1']\n",
    "impedanceControl2 = stuff['impedanceControl2']\n",
    "Tformulas = [stuff['gravityCompensation1'], stuff['gravityCompensation2']]\n"
   ]
  },
  {
   "cell_type": "markdown",
   "id": "fd5bf9ea-3132-4c1d-8506-a02e5e2255d1",
   "metadata": {},
   "source": [
    "Turn formulas into functions"
   ]
  },
  {
   "cell_type": "code",
   "execution_count": 61,
   "id": "3566a516-e734-45f1-bb83-cab3879a955e",
   "metadata": {},
   "outputs": [],
   "source": [
    "thdotdot1_f = smp.lambdify( (Fx, Fy, T1, T2, g, M1, M2, L1, L2, th1, th2, th1d, th2d) , thedd[0])\n",
    "thdotdot2_f = smp.lambdify( (Fx, Fy, T1, T2, g, M1, M2, L1, L2, th1, th2, th1d, th2d) , thedd[1])\n",
    "\n",
    "gravityCompensation1_f = smp.lambdify((Fx, Fy, g, M1, M2, L1, L2, th1, th2, th1d, th2d), Tformulas[0])\n",
    "gravityCompensation2_f = smp.lambdify((Fx, Fy, g, M1, M2, L1, L2, th1, th2, th1d, th2d), Tformulas[1])\n",
    "\n",
    "impedanceControl1_f = smp.lambdify((KP, KD, desiredX, desiredY, desiredXdott, desiredYdott, currentX, currentY, L1, L2, th1, th2, th1d, th2d), impedanceControl1)\n",
    "impedanceControl2_f = smp.lambdify((KP, KD, desiredX, desiredY, desiredXdott, desiredYdott, currentX, currentY, L1, L2, th1, th2, th1d, th2d), impedanceControl2)"
   ]
  },
  {
   "cell_type": "markdown",
   "id": "4908ca45-b18d-460e-9f95-b7cc4c30e396",
   "metadata": {},
   "source": [
    "Constants"
   ]
  },
  {
   "cell_type": "code",
   "execution_count": 62,
   "id": "14584075-d109-41be-8147-fa289d1c9055",
   "metadata": {},
   "outputs": [],
   "source": [
    "m1 = 1\n",
    "m2 = 1\n",
    "l1 = 1\n",
    "l2 = 1\n",
    "g_ = 9.8\n",
    "Kp = 27 #10\n",
    "Kd = 0 #8"
   ]
  },
  {
   "cell_type": "markdown",
   "id": "55b8dce2-d271-4df5-85f8-31f273a1bdf5",
   "metadata": {},
   "source": [
    "Forward Kinematics"
   ]
  },
  {
   "cell_type": "code",
   "execution_count": 63,
   "id": "e242edbb-a16d-4ed9-85dd-29b3c2eb2f53",
   "metadata": {},
   "outputs": [],
   "source": [
    "def forwardKin(the1, the2):\n",
    "    x = - l2*np.sin(the1 + the2) - l1*np.sin(the1)\n",
    "    y = l2*np.cos(the1 + the2) + l1*np.cos(the1)\n",
    "    return x, y\n",
    "\n",
    "def forwardElbowKin(the1):\n",
    "    x = -l1*np.sin(the1)\n",
    "    y = l1*np.cos(the1)\n",
    "    return x, y"
   ]
  },
  {
   "cell_type": "markdown",
   "id": "e4f098e5-d3db-4a59-a96f-ad9dfda4a2b5",
   "metadata": {},
   "source": [
    "Physics Init"
   ]
  },
  {
   "cell_type": "code",
   "execution_count": 65,
   "id": "68828200-d04b-4999-989b-273688473d48",
   "metadata": {},
   "outputs": [
    {
     "name": "stdout",
     "output_type": "stream",
     "text": [
      "-1.7071067811865475 0.7071067811865477\n"
     ]
    }
   ],
   "source": [
    "theta1 = np.pi*1/4\n",
    "theta1dot = 0\n",
    "theta2 = np.pi*1/4\n",
    "theta2dot = 0\n",
    "\n",
    "previous_theta1 = theta1\n",
    "previous_theta2 = theta2\n",
    "\n",
    "previous_theta1dot = theta1dot\n",
    "previous_theta2dot = theta2dot\n",
    "\n",
    "end_effector_x = 0\n",
    "end_effector_y = 0\n",
    "Fx_ = 0\n",
    "Fy_ = 0\n",
    "desired_end_effector_x, desired_end_effector_y = forwardKin(theta1, theta2)\n",
    "print(desired_end_effector_x, desired_end_effector_y )\n",
    "\n",
    "t = 0\n",
    "dt = 0.04\n",
    "\n",
    "def updateTheta(T1_, T2_, dt, theta1, theta2, theta1dot, theta2dot):\n",
    "    theta1dotdot = thdotdot1_f(Fx_, Fy_, T1_, T2_, g_, m1, m2, l1, l2, theta1, theta2, theta1dot, theta2dot)\n",
    "    theta2dotdot = thdotdot2_f(Fx_, Fy_, T1_, T2_, g_, m1, m2, l1, l2, theta1, theta2, theta1dot, theta2dot)\n",
    "    \n",
    "\n",
    "    theta1dot = theta1dotdot*dt + theta1dot\n",
    "    theta2dot = theta2dotdot*dt + theta2dot\n",
    "\n",
    "    theta1 = theta1dot*dt + theta1\n",
    "    theta2 = theta2dot*dt + theta2\n",
    "    return theta1, theta2, theta1dot, theta2dot\n",
    "\n",
    "\n",
    "def impedenceControl(theta1, theta2, theta1dot, theta2dot):\n",
    "    \n",
    "    currentX, currentY = forwardKin(theta1, theta2)\n",
    "    \n",
    "    desiredX = desired_end_effector_x\n",
    "    desiredY = desired_end_effector_y\n",
    "    desiredXdott = 0\n",
    "    desiredYdott = 0\n",
    "    \n",
    "    \n",
    "    impedanceControl1 = impedanceControl1_f(Kp, Kd, desiredX*0.7, desiredY*0.7, desiredXdott, desiredYdott, currentX, currentY, l1, l2, theta1, theta2, theta1dot, theta2dot)\n",
    "    impedanceControl2 = impedanceControl2_f(Kp, Kd, desiredX*0.7, desiredY*0.7, desiredXdott, desiredYdott, currentX, currentY, l1, l2, theta1, theta2, theta1dot, theta2dot)\n",
    "    # gravity compensation\n",
    "    gravityCompensation1 = gravityCompensation1_f(0, 0, g_, m1, m2, l1, l2, theta1, theta2, theta1dot, theta2dot)\n",
    "    gravityCompensation2 = gravityCompensation2_f(0, 0, g_, m1, m2, l1, l2, theta1, theta2, theta1dot, theta2dot)\n",
    "    T1_ = impedanceControl1 + gravityCompensation1\n",
    "    T2_ = impedanceControl2 + gravityCompensation2\n",
    "    \n",
    "    return T1_, T2_\n",
    "    "
   ]
  },
  {
   "cell_type": "markdown",
   "id": "78e899a0-00b0-4c2a-9432-a916ce33397d",
   "metadata": {},
   "source": [
    "Init OpenCV"
   ]
  },
  {
   "cell_type": "code",
   "execution_count": 66,
   "id": "e6e64ba6-67e5-485a-adf2-e75fb0483e90",
   "metadata": {},
   "outputs": [
    {
     "name": "stdout",
     "output_type": "stream",
     "text": [
      "Kp 27 Kd 0\n"
     ]
    }
   ],
   "source": [
    "import cv2\n",
    "from IPython.display import clear_output\n",
    "\n",
    "cv2.destroyAllWindows()\n",
    "\n",
    "\n",
    "def forceIntroduced(event, x, y, flags, param):\n",
    "    global desired_end_effector_x, desired_end_effector_y, Fx_, Fy_\n",
    "\n",
    "    if event==cv2.EVENT_LBUTTONDOWN:\n",
    "        desired_end_effector_x = x*2/100 - 4\n",
    "        desired_end_effector_y = -y*2/100 + 4\n",
    "\n",
    "    if event==cv2.EVENT_RBUTTONDOWN:\n",
    "        tempx = x*2/100 - 4\n",
    "        tempy = -y*2/100 + 4\n",
    "        Fx_ = tempx - end_effector_x\n",
    "        Fy_ = tempy - end_effector_y\n",
    "\n",
    "    if event==cv2.EVENT_RBUTTONUP:\n",
    "        Fx_ = 0\n",
    "        Fy_ = 0\n",
    "        \n",
    "def kpChanged(arg):\n",
    "    global Kp\n",
    "    Kp = arg\n",
    "    clear_output(wait=True)\n",
    "    print(\"Kp\", Kp, \"Kd\", Kd)\n",
    "\n",
    "def kdChanged(arg):\n",
    "    global Kd\n",
    "    Kd = arg\n",
    "    clear_output(wait=True)\n",
    "    print(\"Kp\", Kp, \"Kd\", Kd)\n",
    "\n",
    "    \n",
    "    \n",
    "cv2.namedWindow('output', cv2.WINDOW_AUTOSIZE)\n",
    "cv2.createTrackbar('Kp', 'output', 0, 20, kpChanged)\n",
    "cv2.createTrackbar('Kd', 'output', 0, 20, kdChanged)\n",
    "\n",
    "cv2.setTrackbarPos('Kp','output', int(Kp))\n",
    "cv2.setTrackbarPos('Kd','output', int(Kd))\n",
    "\n",
    "\n",
    "width = 400\n",
    "height = 400\n",
    "\n",
    "def draw(theta1, theta2):\n",
    "    global end_effector_x, end_effector_y\n",
    "    \n",
    "    window = np.zeros((height, width, 3), dtype=np.uint8)\n",
    "    \n",
    "    \n",
    "    xElbow, yElbow = forwardElbowKin(theta1)\n",
    "    xEndEffector, yEndEffector = forwardKin(theta1, theta2)\n",
    "    \n",
    "    elbow = (200 + xElbow*70, 200 - yElbow*70)\n",
    "    end_effector = (200 + xEndEffector*70, 200 - yEndEffector*70)\n",
    "    \n",
    "    #elbow = (200 + l1*np.sin(theta1)*70, 200 - l1*np.cos(theta1)*70)\n",
    "    #end_effector = (elbow[0] + l2*np.sin(theta1 + theta2)*70, elbow[1] - l2*np.cos(theta1 + theta2)*70)\n",
    "\n",
    "    elbow = (int(elbow[0]), int(elbow[1]))\n",
    "    end_effector = (int(end_effector[0]), int(end_effector[1]))\n",
    "    \n",
    "    end_effector_x = end_effector[0]*2/100 - 4\n",
    "    end_effector_y = - end_effector[1]*2/100 + 4\n",
    "\n",
    "    window = cv2.line(window, (200, 200), elbow, (255, 0, 0), 6)\n",
    "    window = cv2.line(window, elbow, end_effector, (255, 0, 0), 6)\n",
    "    \n",
    "    window = cv2.circle(window, (int((desired_end_effector_x+4)*100/2), int((-desired_end_effector_y+4)*100/2)), 5, (255, 255, 255), 2)\n",
    "    return window"
   ]
  },
  {
   "cell_type": "code",
   "execution_count": 67,
   "id": "015519f2-8eb6-44d9-860e-0341e6bb7d43",
   "metadata": {
    "tags": []
   },
   "outputs": [
    {
     "name": "stdout",
     "output_type": "stream",
     "text": [
      "0.00028022917855370096\n"
     ]
    }
   ],
   "source": [
    "from math import sqrt\n",
    "\n",
    "def reset():\n",
    "    global theta1, theta1dot, theta2, theta2dot, t\n",
    "    theta1 = np.pi*1/4\n",
    "    theta1dot = 0\n",
    "    theta2 = np.pi*1/4\n",
    "    theta2dot = 0\n",
    "    t = 0\n",
    "\n",
    "while True:\n",
    "    #try:\n",
    "    T1_, T2_ = impedenceControl(theta1, theta2, theta1dot, theta2dot)\n",
    "    #T1_ = 0\n",
    "    #T2_ = 0\n",
    "    theta1, theta2, theta1dot, theta2dot = updateTheta(T1_, T2_, dt, theta1, theta2, theta1dot, theta2dot)\n",
    "\n",
    "    window = draw(theta1, theta2)\n",
    "    clear_output(wait=True)\n",
    "    print(sqrt( (( (desired_end_effector_x - end_effector_x) / 100 ) **2) + (( (desired_end_effector_y - end_effector_y) / 100 )**2) ))\n",
    "    t = t + dt\n",
    "    cv2.imshow('output', window)\n",
    "    cv2.setMouseCallback('output', forceIntroduced)\n",
    "\n",
    "    #except Exception as e:\n",
    "    #    print(e)\n",
    "    #    reset()\n",
    "\n",
    "    if cv2.waitKey(1) & 0xFF == ord('r'):\n",
    "        print(\"reseting\")\n",
    "        reset()\n",
    "        \n",
    "    if cv2.waitKey(1) & 0xFF == ord('q'):\n",
    "        break\n",
    "\n",
    "        \n",
    "cv2.destroyAllWindows()"
   ]
  },
  {
   "cell_type": "code",
   "execution_count": null,
   "id": "737ddd37-815f-4100-933e-83d014f68c76",
   "metadata": {},
   "outputs": [],
   "source": []
  }
 ],
 "metadata": {
  "kernelspec": {
   "display_name": "Python 3 (ipykernel)",
   "language": "python",
   "name": "python3"
  },
  "language_info": {
   "codemirror_mode": {
    "name": "ipython",
    "version": 3
   },
   "file_extension": ".py",
   "mimetype": "text/x-python",
   "name": "python",
   "nbconvert_exporter": "python",
   "pygments_lexer": "ipython3",
   "version": "3.9.7"
  }
 },
 "nbformat": 4,
 "nbformat_minor": 5
}

{
 "cells": [
  {
   "cell_type": "code",
   "execution_count": 1,
   "id": "8ad0ad44-4f42-4fc8-9893-f3a2a7d3feb5",
   "metadata": {},
   "outputs": [],
   "source": [
    "#https://www.youtube.com/watch?v=8ZZDNd4eyVI&t=1s&ab_channel=Mr.PSolver\n",
    "import numpy as np\n",
    "import sympy as smp\n",
    "import pickle\n",
    "import neat\n",
    "from math import sqrt\n",
    "import os\n",
    "filename = \"variables.pickle\""
   ]
  },
  {
   "cell_type": "markdown",
   "id": "6ffa1a05-4e8b-4314-959c-af1847613f2f",
   "metadata": {},
   "source": [
    "Symbols Init"
   ]
  },
  {
   "cell_type": "code",
   "execution_count": 2,
   "id": "6cfae5be-150c-4c4c-b01e-3ffb33355db3",
   "metadata": {
    "tags": []
   },
   "outputs": [],
   "source": [
    "g = smp.symbols('g')\n",
    "M1, M2 = smp.symbols('M1, M2')\n",
    "L1, L2 = smp.symbols('L1, L2')\n",
    "T1, T2 = smp.symbols('T1, T2')\n",
    "\n",
    "\n",
    "KP, KD, desiredX, desiredY, desiredXdott, desiredYdott, currentX, currentY = smp.symbols('KP, KD, desiredX, desiredY, desiredXdott, desiredYdott, currentX, currentY')\n",
    "\n",
    "th1, th2 = smp.symbols('th1, th2')\n",
    "th1d, th2d = smp.symbols('th1d, th2d')\n",
    "th1dd, th2dd = smp.symbols('th1dd, th2dd')"
   ]
  },
  {
   "cell_type": "markdown",
   "id": "0befda25-89f1-411f-8cae-26347bfc1324",
   "metadata": {},
   "source": [
    "Dynamic Model"
   ]
  },
  {
   "cell_type": "code",
   "execution_count": 3,
   "id": "649a990a-10a2-4812-aa4a-049edbb1f32b",
   "metadata": {
    "collapsed": true,
    "jupyter": {
     "outputs_hidden": true,
     "source_hidden": true
    },
    "tags": []
   },
   "outputs": [
    {
     "ename": "KeyboardInterrupt",
     "evalue": "",
     "output_type": "error",
     "traceback": [
      "\u001b[1;31m---------------------------------------------------------------------------\u001b[0m",
      "\u001b[1;31mKeyboardInterrupt\u001b[0m                         Traceback (most recent call last)",
      "\u001b[1;32m~\\AppData\\Local\\Temp/ipykernel_11760/3622561226.py\u001b[0m in \u001b[0;36m<module>\u001b[1;34m\u001b[0m\n\u001b[0;32m     27\u001b[0m \u001b[0mZero\u001b[0m \u001b[1;33m=\u001b[0m \u001b[0mM\u001b[0m \u001b[1;33m*\u001b[0m \u001b[0mthedd\u001b[0m \u001b[1;33m+\u001b[0m \u001b[0mB\u001b[0m \u001b[1;33m+\u001b[0m \u001b[0mG\u001b[0m \u001b[1;33m-\u001b[0m \u001b[0mT\u001b[0m\u001b[1;33m\u001b[0m\u001b[1;33m\u001b[0m\u001b[0m\n\u001b[0;32m     28\u001b[0m \u001b[1;33m\u001b[0m\u001b[0m\n\u001b[1;32m---> 29\u001b[1;33m \u001b[0msols\u001b[0m \u001b[1;33m=\u001b[0m \u001b[0msmp\u001b[0m\u001b[1;33m.\u001b[0m\u001b[0msolve\u001b[0m\u001b[1;33m(\u001b[0m\u001b[0mZero\u001b[0m\u001b[1;33m,\u001b[0m \u001b[1;33m(\u001b[0m\u001b[0mth1dd\u001b[0m\u001b[1;33m,\u001b[0m \u001b[0mth2dd\u001b[0m\u001b[1;33m)\u001b[0m\u001b[1;33m,\u001b[0m \u001b[0msimplify\u001b[0m\u001b[1;33m=\u001b[0m\u001b[1;32mTrue\u001b[0m\u001b[1;33m,\u001b[0m \u001b[0mrational\u001b[0m\u001b[1;33m=\u001b[0m\u001b[1;32mTrue\u001b[0m\u001b[1;33m)\u001b[0m\u001b[1;33m\u001b[0m\u001b[1;33m\u001b[0m\u001b[0m\n\u001b[0m\u001b[0;32m     30\u001b[0m \u001b[1;33m\u001b[0m\u001b[0m\n\u001b[0;32m     31\u001b[0m \u001b[0mth1ddSol\u001b[0m \u001b[1;33m=\u001b[0m \u001b[0msols\u001b[0m\u001b[1;33m[\u001b[0m\u001b[0mth1dd\u001b[0m\u001b[1;33m]\u001b[0m\u001b[1;33m\u001b[0m\u001b[1;33m\u001b[0m\u001b[0m\n",
      "\u001b[1;32mC:\\ProgramData\\Anaconda3\\lib\\site-packages\\sympy\\solvers\\solvers.py\u001b[0m in \u001b[0;36msolve\u001b[1;34m(f, *symbols, **flags)\u001b[0m\n\u001b[0;32m   1095\u001b[0m         \u001b[0msolution\u001b[0m \u001b[1;33m=\u001b[0m \u001b[0m_solve\u001b[0m\u001b[1;33m(\u001b[0m\u001b[0mf\u001b[0m\u001b[1;33m[\u001b[0m\u001b[1;36m0\u001b[0m\u001b[1;33m]\u001b[0m\u001b[1;33m,\u001b[0m \u001b[1;33m*\u001b[0m\u001b[0msymbols\u001b[0m\u001b[1;33m,\u001b[0m \u001b[1;33m**\u001b[0m\u001b[0mflags\u001b[0m\u001b[1;33m)\u001b[0m\u001b[1;33m\u001b[0m\u001b[1;33m\u001b[0m\u001b[0m\n\u001b[0;32m   1096\u001b[0m     \u001b[1;32melse\u001b[0m\u001b[1;33m:\u001b[0m\u001b[1;33m\u001b[0m\u001b[1;33m\u001b[0m\u001b[0m\n\u001b[1;32m-> 1097\u001b[1;33m         \u001b[0msolution\u001b[0m \u001b[1;33m=\u001b[0m \u001b[0m_solve_system\u001b[0m\u001b[1;33m(\u001b[0m\u001b[0mf\u001b[0m\u001b[1;33m,\u001b[0m \u001b[0msymbols\u001b[0m\u001b[1;33m,\u001b[0m \u001b[1;33m**\u001b[0m\u001b[0mflags\u001b[0m\u001b[1;33m)\u001b[0m\u001b[1;33m\u001b[0m\u001b[1;33m\u001b[0m\u001b[0m\n\u001b[0m\u001b[0;32m   1098\u001b[0m \u001b[1;33m\u001b[0m\u001b[0m\n\u001b[0;32m   1099\u001b[0m     \u001b[1;31m#\u001b[0m\u001b[1;33m\u001b[0m\u001b[1;33m\u001b[0m\u001b[0m\n",
      "\u001b[1;32mC:\\ProgramData\\Anaconda3\\lib\\site-packages\\sympy\\solvers\\solvers.py\u001b[0m in \u001b[0;36m_solve_system\u001b[1;34m(exprs, symbols, **flags)\u001b[0m\n\u001b[0;32m   1812\u001b[0m                 \u001b[0mresult\u001b[0m \u001b[1;33m=\u001b[0m \u001b[0mminsolve_linear_system\u001b[0m\u001b[1;33m(\u001b[0m\u001b[0mmatrix\u001b[0m\u001b[1;33m,\u001b[0m \u001b[1;33m*\u001b[0m\u001b[0msymbols\u001b[0m\u001b[1;33m,\u001b[0m \u001b[1;33m**\u001b[0m\u001b[0mflags\u001b[0m\u001b[1;33m)\u001b[0m\u001b[1;33m\u001b[0m\u001b[1;33m\u001b[0m\u001b[0m\n\u001b[0;32m   1813\u001b[0m             \u001b[1;32melse\u001b[0m\u001b[1;33m:\u001b[0m\u001b[1;33m\u001b[0m\u001b[1;33m\u001b[0m\u001b[0m\n\u001b[1;32m-> 1814\u001b[1;33m                 \u001b[0mresult\u001b[0m \u001b[1;33m=\u001b[0m \u001b[0msolve_linear_system\u001b[0m\u001b[1;33m(\u001b[0m\u001b[0mmatrix\u001b[0m\u001b[1;33m,\u001b[0m \u001b[1;33m*\u001b[0m\u001b[0msymbols\u001b[0m\u001b[1;33m,\u001b[0m \u001b[1;33m**\u001b[0m\u001b[0mflags\u001b[0m\u001b[1;33m)\u001b[0m\u001b[1;33m\u001b[0m\u001b[1;33m\u001b[0m\u001b[0m\n\u001b[0m\u001b[0;32m   1815\u001b[0m             \u001b[1;32mif\u001b[0m \u001b[0mfailed\u001b[0m\u001b[1;33m:\u001b[0m\u001b[1;33m\u001b[0m\u001b[1;33m\u001b[0m\u001b[0m\n\u001b[0;32m   1816\u001b[0m                 \u001b[1;32mif\u001b[0m \u001b[0mresult\u001b[0m\u001b[1;33m:\u001b[0m\u001b[1;33m\u001b[0m\u001b[1;33m\u001b[0m\u001b[0m\n",
      "\u001b[1;32mC:\\ProgramData\\Anaconda3\\lib\\site-packages\\sympy\\solvers\\solvers.py\u001b[0m in \u001b[0;36msolve_linear_system\u001b[1;34m(system, *symbols, **flags)\u001b[0m\n\u001b[0;32m   2308\u001b[0m     \u001b[0meqs\u001b[0m \u001b[1;33m=\u001b[0m \u001b[0mlist\u001b[0m\u001b[1;33m(\u001b[0m\u001b[0msystem\u001b[0m \u001b[1;33m*\u001b[0m \u001b[0mMatrix\u001b[0m\u001b[1;33m(\u001b[0m\u001b[0msymbols\u001b[0m \u001b[1;33m+\u001b[0m \u001b[1;33m(\u001b[0m\u001b[1;33m-\u001b[0m\u001b[1;36m1\u001b[0m\u001b[1;33m,\u001b[0m\u001b[1;33m)\u001b[0m\u001b[1;33m)\u001b[0m\u001b[1;33m)\u001b[0m\u001b[1;33m\u001b[0m\u001b[1;33m\u001b[0m\u001b[0m\n\u001b[0;32m   2309\u001b[0m     \u001b[0meqs\u001b[0m\u001b[1;33m,\u001b[0m \u001b[0mring\u001b[0m \u001b[1;33m=\u001b[0m \u001b[0msympy_eqs_to_ring\u001b[0m\u001b[1;33m(\u001b[0m\u001b[0meqs\u001b[0m\u001b[1;33m,\u001b[0m \u001b[0msymbols\u001b[0m\u001b[1;33m)\u001b[0m\u001b[1;33m\u001b[0m\u001b[1;33m\u001b[0m\u001b[0m\n\u001b[1;32m-> 2310\u001b[1;33m     \u001b[0msol\u001b[0m \u001b[1;33m=\u001b[0m \u001b[0msolve_lin_sys\u001b[0m\u001b[1;33m(\u001b[0m\u001b[0meqs\u001b[0m\u001b[1;33m,\u001b[0m \u001b[0mring\u001b[0m\u001b[1;33m,\u001b[0m \u001b[0m_raw\u001b[0m\u001b[1;33m=\u001b[0m\u001b[1;32mFalse\u001b[0m\u001b[1;33m)\u001b[0m\u001b[1;33m\u001b[0m\u001b[1;33m\u001b[0m\u001b[0m\n\u001b[0m\u001b[0;32m   2311\u001b[0m     \u001b[1;32mif\u001b[0m \u001b[0msol\u001b[0m \u001b[1;32mis\u001b[0m \u001b[1;32mnot\u001b[0m \u001b[1;32mNone\u001b[0m\u001b[1;33m:\u001b[0m\u001b[1;33m\u001b[0m\u001b[1;33m\u001b[0m\u001b[0m\n\u001b[0;32m   2312\u001b[0m         \u001b[0msol\u001b[0m \u001b[1;33m=\u001b[0m \u001b[1;33m{\u001b[0m\u001b[0msym\u001b[0m\u001b[1;33m:\u001b[0m\u001b[0mval\u001b[0m \u001b[1;32mfor\u001b[0m \u001b[0msym\u001b[0m\u001b[1;33m,\u001b[0m \u001b[0mval\u001b[0m \u001b[1;32min\u001b[0m \u001b[0msol\u001b[0m\u001b[1;33m.\u001b[0m\u001b[0mitems\u001b[0m\u001b[1;33m(\u001b[0m\u001b[1;33m)\u001b[0m \u001b[1;32mif\u001b[0m \u001b[0msym\u001b[0m \u001b[1;33m!=\u001b[0m \u001b[0mval\u001b[0m\u001b[1;33m}\u001b[0m\u001b[1;33m\u001b[0m\u001b[1;33m\u001b[0m\u001b[0m\n",
      "\u001b[1;32mC:\\ProgramData\\Anaconda3\\lib\\site-packages\\sympy\\polys\\solvers.py\u001b[0m in \u001b[0;36msolve_lin_sys\u001b[1;34m(eqs, ring, _raw)\u001b[0m\n\u001b[0;32m    272\u001b[0m         \u001b[0meqs_coeffs\u001b[0m\u001b[1;33m.\u001b[0m\u001b[0mappend\u001b[0m\u001b[1;33m(\u001b[0m\u001b[0meq_coeffs\u001b[0m\u001b[1;33m)\u001b[0m\u001b[1;33m\u001b[0m\u001b[1;33m\u001b[0m\u001b[0m\n\u001b[0;32m    273\u001b[0m \u001b[1;33m\u001b[0m\u001b[0m\n\u001b[1;32m--> 274\u001b[1;33m     \u001b[0mresult\u001b[0m \u001b[1;33m=\u001b[0m \u001b[0m_solve_lin_sys\u001b[0m\u001b[1;33m(\u001b[0m\u001b[0meqs_coeffs\u001b[0m\u001b[1;33m,\u001b[0m \u001b[0meqs_rhs\u001b[0m\u001b[1;33m,\u001b[0m \u001b[0mring\u001b[0m\u001b[1;33m)\u001b[0m\u001b[1;33m\u001b[0m\u001b[1;33m\u001b[0m\u001b[0m\n\u001b[0m\u001b[0;32m    275\u001b[0m \u001b[1;33m\u001b[0m\u001b[0m\n\u001b[0;32m    276\u001b[0m     \u001b[1;32mif\u001b[0m \u001b[0mresult\u001b[0m \u001b[1;32mis\u001b[0m \u001b[1;32mnot\u001b[0m \u001b[1;32mNone\u001b[0m \u001b[1;32mand\u001b[0m \u001b[0mas_expr\u001b[0m\u001b[1;33m:\u001b[0m\u001b[1;33m\u001b[0m\u001b[1;33m\u001b[0m\u001b[0m\n",
      "\u001b[1;32mC:\\ProgramData\\Anaconda3\\lib\\site-packages\\sympy\\polys\\solvers.py\u001b[0m in \u001b[0;36m_solve_lin_sys\u001b[1;34m(eqs_coeffs, eqs_rhs, ring)\u001b[0m\n\u001b[0;32m    350\u001b[0m     \u001b[0msol\u001b[0m \u001b[1;33m=\u001b[0m \u001b[1;33m{\u001b[0m\u001b[1;33m}\u001b[0m\u001b[1;33m\u001b[0m\u001b[1;33m\u001b[0m\u001b[0m\n\u001b[0;32m    351\u001b[0m     \u001b[1;32mfor\u001b[0m \u001b[0msubsystem\u001b[0m \u001b[1;32min\u001b[0m \u001b[0msubsystems\u001b[0m\u001b[1;33m:\u001b[0m\u001b[1;33m\u001b[0m\u001b[1;33m\u001b[0m\u001b[0m\n\u001b[1;32m--> 352\u001b[1;33m         \u001b[0msubsol\u001b[0m \u001b[1;33m=\u001b[0m \u001b[0m_solve_lin_sys_component\u001b[0m\u001b[1;33m(\u001b[0m\u001b[0msubsystem\u001b[0m\u001b[1;33m[\u001b[0m\u001b[1;36m0\u001b[0m\u001b[1;33m]\u001b[0m\u001b[1;33m,\u001b[0m \u001b[0msubsystem\u001b[0m\u001b[1;33m[\u001b[0m\u001b[1;36m1\u001b[0m\u001b[1;33m]\u001b[0m\u001b[1;33m,\u001b[0m \u001b[0mring\u001b[0m\u001b[1;33m)\u001b[0m\u001b[1;33m\u001b[0m\u001b[1;33m\u001b[0m\u001b[0m\n\u001b[0m\u001b[0;32m    353\u001b[0m         \u001b[1;32mif\u001b[0m \u001b[0msubsol\u001b[0m \u001b[1;32mis\u001b[0m \u001b[1;32mNone\u001b[0m\u001b[1;33m:\u001b[0m\u001b[1;33m\u001b[0m\u001b[1;33m\u001b[0m\u001b[0m\n\u001b[0;32m    354\u001b[0m             \u001b[1;32mreturn\u001b[0m \u001b[1;32mNone\u001b[0m\u001b[1;33m\u001b[0m\u001b[1;33m\u001b[0m\u001b[0m\n",
      "\u001b[1;32mC:\\ProgramData\\Anaconda3\\lib\\site-packages\\sympy\\polys\\solvers.py\u001b[0m in \u001b[0;36m_solve_lin_sys_component\u001b[1;34m(eqs_coeffs, eqs_rhs, ring)\u001b[0m\n\u001b[0;32m    398\u001b[0m \u001b[1;33m\u001b[0m\u001b[0m\n\u001b[0;32m    399\u001b[0m     \u001b[1;31m# solve by row-reduction\u001b[0m\u001b[1;33m\u001b[0m\u001b[1;33m\u001b[0m\u001b[0m\n\u001b[1;32m--> 400\u001b[1;33m     \u001b[0mechelon\u001b[0m\u001b[1;33m,\u001b[0m \u001b[0mpivots\u001b[0m \u001b[1;33m=\u001b[0m \u001b[0mmatrix\u001b[0m\u001b[1;33m.\u001b[0m\u001b[0mrref\u001b[0m\u001b[1;33m(\u001b[0m\u001b[1;33m)\u001b[0m\u001b[1;33m\u001b[0m\u001b[1;33m\u001b[0m\u001b[0m\n\u001b[0m\u001b[0;32m    401\u001b[0m \u001b[1;33m\u001b[0m\u001b[0m\n\u001b[0;32m    402\u001b[0m     \u001b[1;31m# construct the returnable form of the solutions\u001b[0m\u001b[1;33m\u001b[0m\u001b[1;33m\u001b[0m\u001b[0m\n",
      "\u001b[1;32mC:\\ProgramData\\Anaconda3\\lib\\site-packages\\sympy\\polys\\matrices\\domainmatrix.py\u001b[0m in \u001b[0;36mrref\u001b[1;34m(self)\u001b[0m\n\u001b[0;32m   1168\u001b[0m         \u001b[1;32mif\u001b[0m \u001b[1;32mnot\u001b[0m \u001b[0mself\u001b[0m\u001b[1;33m.\u001b[0m\u001b[0mdomain\u001b[0m\u001b[1;33m.\u001b[0m\u001b[0mis_Field\u001b[0m\u001b[1;33m:\u001b[0m\u001b[1;33m\u001b[0m\u001b[1;33m\u001b[0m\u001b[0m\n\u001b[0;32m   1169\u001b[0m             \u001b[1;32mraise\u001b[0m \u001b[0mValueError\u001b[0m\u001b[1;33m(\u001b[0m\u001b[1;34m'Not a field'\u001b[0m\u001b[1;33m)\u001b[0m\u001b[1;33m\u001b[0m\u001b[1;33m\u001b[0m\u001b[0m\n\u001b[1;32m-> 1170\u001b[1;33m         \u001b[0mrref_ddm\u001b[0m\u001b[1;33m,\u001b[0m \u001b[0mpivots\u001b[0m \u001b[1;33m=\u001b[0m \u001b[0mself\u001b[0m\u001b[1;33m.\u001b[0m\u001b[0mrep\u001b[0m\u001b[1;33m.\u001b[0m\u001b[0mrref\u001b[0m\u001b[1;33m(\u001b[0m\u001b[1;33m)\u001b[0m\u001b[1;33m\u001b[0m\u001b[1;33m\u001b[0m\u001b[0m\n\u001b[0m\u001b[0;32m   1171\u001b[0m         \u001b[1;32mreturn\u001b[0m \u001b[0mself\u001b[0m\u001b[1;33m.\u001b[0m\u001b[0mfrom_rep\u001b[0m\u001b[1;33m(\u001b[0m\u001b[0mrref_ddm\u001b[0m\u001b[1;33m)\u001b[0m\u001b[1;33m,\u001b[0m \u001b[0mtuple\u001b[0m\u001b[1;33m(\u001b[0m\u001b[0mpivots\u001b[0m\u001b[1;33m)\u001b[0m\u001b[1;33m\u001b[0m\u001b[1;33m\u001b[0m\u001b[0m\n\u001b[0;32m   1172\u001b[0m \u001b[1;33m\u001b[0m\u001b[0m\n",
      "\u001b[1;32mC:\\ProgramData\\Anaconda3\\lib\\site-packages\\sympy\\polys\\matrices\\ddm.py\u001b[0m in \u001b[0;36mrref\u001b[1;34m(a)\u001b[0m\n\u001b[0;32m    371\u001b[0m         \u001b[0mK\u001b[0m \u001b[1;33m=\u001b[0m \u001b[0ma\u001b[0m\u001b[1;33m.\u001b[0m\u001b[0mdomain\u001b[0m\u001b[1;33m\u001b[0m\u001b[1;33m\u001b[0m\u001b[0m\n\u001b[0;32m    372\u001b[0m         \u001b[0mpartial_pivot\u001b[0m \u001b[1;33m=\u001b[0m \u001b[0mK\u001b[0m\u001b[1;33m.\u001b[0m\u001b[0mis_RealField\u001b[0m \u001b[1;32mor\u001b[0m \u001b[0mK\u001b[0m\u001b[1;33m.\u001b[0m\u001b[0mis_ComplexField\u001b[0m\u001b[1;33m\u001b[0m\u001b[1;33m\u001b[0m\u001b[0m\n\u001b[1;32m--> 373\u001b[1;33m         \u001b[0mpivots\u001b[0m \u001b[1;33m=\u001b[0m \u001b[0mddm_irref\u001b[0m\u001b[1;33m(\u001b[0m\u001b[0mb\u001b[0m\u001b[1;33m,\u001b[0m \u001b[0m_partial_pivot\u001b[0m\u001b[1;33m=\u001b[0m\u001b[0mpartial_pivot\u001b[0m\u001b[1;33m)\u001b[0m\u001b[1;33m\u001b[0m\u001b[1;33m\u001b[0m\u001b[0m\n\u001b[0m\u001b[0;32m    374\u001b[0m         \u001b[1;32mreturn\u001b[0m \u001b[0mb\u001b[0m\u001b[1;33m,\u001b[0m \u001b[0mpivots\u001b[0m\u001b[1;33m\u001b[0m\u001b[1;33m\u001b[0m\u001b[0m\n\u001b[0;32m    375\u001b[0m \u001b[1;33m\u001b[0m\u001b[0m\n",
      "\u001b[1;32mC:\\ProgramData\\Anaconda3\\lib\\site-packages\\sympy\\polys\\matrices\\dense.py\u001b[0m in \u001b[0;36mddm_irref\u001b[1;34m(a, _partial_pivot)\u001b[0m\n\u001b[0;32m    141\u001b[0m             \u001b[0mak\u001b[0m\u001b[1;33m[\u001b[0m\u001b[0mj\u001b[0m\u001b[1;33m]\u001b[0m \u001b[1;33m-=\u001b[0m \u001b[0makj\u001b[0m \u001b[1;31m# ak[j] = zero\u001b[0m\u001b[1;33m\u001b[0m\u001b[1;33m\u001b[0m\u001b[0m\n\u001b[0;32m    142\u001b[0m             \u001b[1;32mfor\u001b[0m \u001b[0ml\u001b[0m \u001b[1;32min\u001b[0m \u001b[0mrange\u001b[0m\u001b[1;33m(\u001b[0m\u001b[0mj\u001b[0m\u001b[1;33m+\u001b[0m\u001b[1;36m1\u001b[0m\u001b[1;33m,\u001b[0m \u001b[0mn\u001b[0m\u001b[1;33m)\u001b[0m\u001b[1;33m:\u001b[0m\u001b[1;33m\u001b[0m\u001b[1;33m\u001b[0m\u001b[0m\n\u001b[1;32m--> 143\u001b[1;33m                 \u001b[0mak\u001b[0m\u001b[1;33m[\u001b[0m\u001b[0ml\u001b[0m\u001b[1;33m]\u001b[0m \u001b[1;33m-=\u001b[0m \u001b[0makj\u001b[0m \u001b[1;33m*\u001b[0m \u001b[0mai\u001b[0m\u001b[1;33m[\u001b[0m\u001b[0ml\u001b[0m\u001b[1;33m]\u001b[0m\u001b[1;33m\u001b[0m\u001b[1;33m\u001b[0m\u001b[0m\n\u001b[0m\u001b[0;32m    144\u001b[0m \u001b[1;33m\u001b[0m\u001b[0m\n\u001b[0;32m    145\u001b[0m         \u001b[1;31m# next row\u001b[0m\u001b[1;33m\u001b[0m\u001b[1;33m\u001b[0m\u001b[0m\n",
      "\u001b[1;32mC:\\ProgramData\\Anaconda3\\lib\\site-packages\\sympy\\polys\\domains\\expressiondomain.py\u001b[0m in \u001b[0;36m__sub__\u001b[1;34m(f, g)\u001b[0m\n\u001b[0;32m     87\u001b[0m                 \u001b[1;32mreturn\u001b[0m \u001b[1;33m-\u001b[0m\u001b[0mg\u001b[0m\u001b[1;33m\u001b[0m\u001b[1;33m\u001b[0m\u001b[0m\n\u001b[0;32m     88\u001b[0m             \u001b[1;32melse\u001b[0m\u001b[1;33m:\u001b[0m\u001b[1;33m\u001b[0m\u001b[1;33m\u001b[0m\u001b[0m\n\u001b[1;32m---> 89\u001b[1;33m                 \u001b[1;32mreturn\u001b[0m \u001b[0mf\u001b[0m\u001b[1;33m.\u001b[0m\u001b[0msimplify\u001b[0m\u001b[1;33m(\u001b[0m\u001b[0mf\u001b[0m\u001b[1;33m.\u001b[0m\u001b[0mex\u001b[0m \u001b[1;33m-\u001b[0m \u001b[0mg\u001b[0m\u001b[1;33m.\u001b[0m\u001b[0mex\u001b[0m\u001b[1;33m)\u001b[0m\u001b[1;33m\u001b[0m\u001b[1;33m\u001b[0m\u001b[0m\n\u001b[0m\u001b[0;32m     90\u001b[0m \u001b[1;33m\u001b[0m\u001b[0m\n\u001b[0;32m     91\u001b[0m         \u001b[1;32mdef\u001b[0m \u001b[0m__rsub__\u001b[0m\u001b[1;33m(\u001b[0m\u001b[0mf\u001b[0m\u001b[1;33m,\u001b[0m \u001b[0mg\u001b[0m\u001b[1;33m)\u001b[0m\u001b[1;33m:\u001b[0m\u001b[1;33m\u001b[0m\u001b[1;33m\u001b[0m\u001b[0m\n",
      "\u001b[1;32mC:\\ProgramData\\Anaconda3\\lib\\site-packages\\sympy\\polys\\domains\\expressiondomain.py\u001b[0m in \u001b[0;36msimplify\u001b[1;34m(f, ex)\u001b[0m\n\u001b[0;32m     48\u001b[0m \u001b[1;33m\u001b[0m\u001b[0m\n\u001b[0;32m     49\u001b[0m         \u001b[1;32mdef\u001b[0m \u001b[0msimplify\u001b[0m\u001b[1;33m(\u001b[0m\u001b[0mf\u001b[0m\u001b[1;33m,\u001b[0m \u001b[0mex\u001b[0m\u001b[1;33m)\u001b[0m\u001b[1;33m:\u001b[0m\u001b[1;33m\u001b[0m\u001b[1;33m\u001b[0m\u001b[0m\n\u001b[1;32m---> 50\u001b[1;33m             \u001b[1;32mreturn\u001b[0m \u001b[0mf\u001b[0m\u001b[1;33m.\u001b[0m\u001b[0m__class__\u001b[0m\u001b[1;33m(\u001b[0m\u001b[0mex\u001b[0m\u001b[1;33m.\u001b[0m\u001b[0mcancel\u001b[0m\u001b[1;33m(\u001b[0m\u001b[1;33m)\u001b[0m\u001b[1;33m.\u001b[0m\u001b[0mexpand\u001b[0m\u001b[1;33m(\u001b[0m\u001b[1;33m**\u001b[0m\u001b[0meflags\u001b[0m\u001b[1;33m)\u001b[0m\u001b[1;33m)\u001b[0m\u001b[1;33m\u001b[0m\u001b[1;33m\u001b[0m\u001b[0m\n\u001b[0m\u001b[0;32m     51\u001b[0m \u001b[1;33m\u001b[0m\u001b[0m\n\u001b[0;32m     52\u001b[0m         \u001b[1;32mdef\u001b[0m \u001b[0m__abs__\u001b[0m\u001b[1;33m(\u001b[0m\u001b[0mf\u001b[0m\u001b[1;33m)\u001b[0m\u001b[1;33m:\u001b[0m\u001b[1;33m\u001b[0m\u001b[1;33m\u001b[0m\u001b[0m\n",
      "\u001b[1;32mC:\\ProgramData\\Anaconda3\\lib\\site-packages\\sympy\\core\\expr.py\u001b[0m in \u001b[0;36mcancel\u001b[1;34m(self, *gens, **args)\u001b[0m\n\u001b[0;32m   3729\u001b[0m         \u001b[1;34m\"\"\"See the cancel function in sympy.polys\"\"\"\u001b[0m\u001b[1;33m\u001b[0m\u001b[1;33m\u001b[0m\u001b[0m\n\u001b[0;32m   3730\u001b[0m         \u001b[1;32mfrom\u001b[0m \u001b[0msympy\u001b[0m\u001b[1;33m.\u001b[0m\u001b[0mpolys\u001b[0m \u001b[1;32mimport\u001b[0m \u001b[0mcancel\u001b[0m\u001b[1;33m\u001b[0m\u001b[1;33m\u001b[0m\u001b[0m\n\u001b[1;32m-> 3731\u001b[1;33m         \u001b[1;32mreturn\u001b[0m \u001b[0mcancel\u001b[0m\u001b[1;33m(\u001b[0m\u001b[0mself\u001b[0m\u001b[1;33m,\u001b[0m \u001b[1;33m*\u001b[0m\u001b[0mgens\u001b[0m\u001b[1;33m,\u001b[0m \u001b[1;33m**\u001b[0m\u001b[0margs\u001b[0m\u001b[1;33m)\u001b[0m\u001b[1;33m\u001b[0m\u001b[1;33m\u001b[0m\u001b[0m\n\u001b[0m\u001b[0;32m   3732\u001b[0m \u001b[1;33m\u001b[0m\u001b[0m\n\u001b[0;32m   3733\u001b[0m     \u001b[1;32mdef\u001b[0m \u001b[0minvert\u001b[0m\u001b[1;33m(\u001b[0m\u001b[0mself\u001b[0m\u001b[1;33m,\u001b[0m \u001b[0mg\u001b[0m\u001b[1;33m,\u001b[0m \u001b[1;33m*\u001b[0m\u001b[0mgens\u001b[0m\u001b[1;33m,\u001b[0m \u001b[1;33m**\u001b[0m\u001b[0margs\u001b[0m\u001b[1;33m)\u001b[0m\u001b[1;33m:\u001b[0m\u001b[1;33m\u001b[0m\u001b[1;33m\u001b[0m\u001b[0m\n",
      "\u001b[1;32mC:\\ProgramData\\Anaconda3\\lib\\site-packages\\sympy\\polys\\polytools.py\u001b[0m in \u001b[0;36mcancel\u001b[1;34m(f, *gens, **args)\u001b[0m\n\u001b[0;32m   6698\u001b[0m         \u001b[1;32mif\u001b[0m \u001b[0mf\u001b[0m\u001b[1;33m.\u001b[0m\u001b[0mhas\u001b[0m\u001b[1;33m(\u001b[0m\u001b[0mPiecewise\u001b[0m\u001b[1;33m)\u001b[0m\u001b[1;33m:\u001b[0m\u001b[1;33m\u001b[0m\u001b[1;33m\u001b[0m\u001b[0m\n\u001b[0;32m   6699\u001b[0m             \u001b[1;32mraise\u001b[0m \u001b[0mPolynomialError\u001b[0m\u001b[1;33m(\u001b[0m\u001b[1;33m)\u001b[0m\u001b[1;33m\u001b[0m\u001b[1;33m\u001b[0m\u001b[0m\n\u001b[1;32m-> 6700\u001b[1;33m         \u001b[0mR\u001b[0m\u001b[1;33m,\u001b[0m \u001b[1;33m(\u001b[0m\u001b[0mF\u001b[0m\u001b[1;33m,\u001b[0m \u001b[0mG\u001b[0m\u001b[1;33m)\u001b[0m \u001b[1;33m=\u001b[0m \u001b[0msring\u001b[0m\u001b[1;33m(\u001b[0m\u001b[1;33m(\u001b[0m\u001b[0mp\u001b[0m\u001b[1;33m,\u001b[0m \u001b[0mq\u001b[0m\u001b[1;33m)\u001b[0m\u001b[1;33m,\u001b[0m \u001b[1;33m*\u001b[0m\u001b[0mgens\u001b[0m\u001b[1;33m,\u001b[0m \u001b[1;33m**\u001b[0m\u001b[0margs\u001b[0m\u001b[1;33m)\u001b[0m\u001b[1;33m\u001b[0m\u001b[1;33m\u001b[0m\u001b[0m\n\u001b[0m\u001b[0;32m   6701\u001b[0m         \u001b[1;32mif\u001b[0m \u001b[1;32mnot\u001b[0m \u001b[0mR\u001b[0m\u001b[1;33m.\u001b[0m\u001b[0mngens\u001b[0m\u001b[1;33m:\u001b[0m\u001b[1;33m\u001b[0m\u001b[1;33m\u001b[0m\u001b[0m\n\u001b[0;32m   6702\u001b[0m             \u001b[1;32mif\u001b[0m \u001b[1;32mnot\u001b[0m \u001b[0misinstance\u001b[0m\u001b[1;33m(\u001b[0m\u001b[0mf\u001b[0m\u001b[1;33m,\u001b[0m \u001b[1;33m(\u001b[0m\u001b[0mtuple\u001b[0m\u001b[1;33m,\u001b[0m \u001b[0mTuple\u001b[0m\u001b[1;33m)\u001b[0m\u001b[1;33m)\u001b[0m\u001b[1;33m:\u001b[0m\u001b[1;33m\u001b[0m\u001b[1;33m\u001b[0m\u001b[0m\n",
      "\u001b[1;32mC:\\ProgramData\\Anaconda3\\lib\\site-packages\\sympy\\polys\\rings.py\u001b[0m in \u001b[0;36msring\u001b[1;34m(exprs, *symbols, **options)\u001b[0m\n\u001b[0;32m    162\u001b[0m \u001b[1;33m\u001b[0m\u001b[0m\n\u001b[0;32m    163\u001b[0m     \u001b[1;31m# TODO: rewrite this so that it doesn't use expand() (see poly()).\u001b[0m\u001b[1;33m\u001b[0m\u001b[1;33m\u001b[0m\u001b[0m\n\u001b[1;32m--> 164\u001b[1;33m     \u001b[0mreps\u001b[0m\u001b[1;33m,\u001b[0m \u001b[0mopt\u001b[0m \u001b[1;33m=\u001b[0m \u001b[0m_parallel_dict_from_expr\u001b[0m\u001b[1;33m(\u001b[0m\u001b[0mexprs\u001b[0m\u001b[1;33m,\u001b[0m \u001b[0mopt\u001b[0m\u001b[1;33m)\u001b[0m\u001b[1;33m\u001b[0m\u001b[1;33m\u001b[0m\u001b[0m\n\u001b[0m\u001b[0;32m    165\u001b[0m \u001b[1;33m\u001b[0m\u001b[0m\n\u001b[0;32m    166\u001b[0m     \u001b[1;32mif\u001b[0m \u001b[0mopt\u001b[0m\u001b[1;33m.\u001b[0m\u001b[0mdomain\u001b[0m \u001b[1;32mis\u001b[0m \u001b[1;32mNone\u001b[0m\u001b[1;33m:\u001b[0m\u001b[1;33m\u001b[0m\u001b[1;33m\u001b[0m\u001b[0m\n",
      "\u001b[1;32mC:\\ProgramData\\Anaconda3\\lib\\site-packages\\sympy\\polys\\polyutils.py\u001b[0m in \u001b[0;36m_parallel_dict_from_expr\u001b[1;34m(exprs, opt)\u001b[0m\n\u001b[0;32m    324\u001b[0m     \u001b[1;34m\"\"\"Transform expressions into a multinomial form. \"\"\"\u001b[0m\u001b[1;33m\u001b[0m\u001b[1;33m\u001b[0m\u001b[0m\n\u001b[0;32m    325\u001b[0m     \u001b[1;32mif\u001b[0m \u001b[0mopt\u001b[0m\u001b[1;33m.\u001b[0m\u001b[0mexpand\u001b[0m \u001b[1;32mis\u001b[0m \u001b[1;32mnot\u001b[0m \u001b[1;32mFalse\u001b[0m\u001b[1;33m:\u001b[0m\u001b[1;33m\u001b[0m\u001b[1;33m\u001b[0m\u001b[0m\n\u001b[1;32m--> 326\u001b[1;33m         \u001b[0mexprs\u001b[0m \u001b[1;33m=\u001b[0m \u001b[1;33m[\u001b[0m \u001b[0mexpr\u001b[0m\u001b[1;33m.\u001b[0m\u001b[0mexpand\u001b[0m\u001b[1;33m(\u001b[0m\u001b[1;33m)\u001b[0m \u001b[1;32mfor\u001b[0m \u001b[0mexpr\u001b[0m \u001b[1;32min\u001b[0m \u001b[0mexprs\u001b[0m \u001b[1;33m]\u001b[0m\u001b[1;33m\u001b[0m\u001b[1;33m\u001b[0m\u001b[0m\n\u001b[0m\u001b[0;32m    327\u001b[0m \u001b[1;33m\u001b[0m\u001b[0m\n\u001b[0;32m    328\u001b[0m     \u001b[1;32mif\u001b[0m \u001b[0many\u001b[0m\u001b[1;33m(\u001b[0m\u001b[0mexpr\u001b[0m\u001b[1;33m.\u001b[0m\u001b[0mis_commutative\u001b[0m \u001b[1;32mis\u001b[0m \u001b[1;32mFalse\u001b[0m \u001b[1;32mfor\u001b[0m \u001b[0mexpr\u001b[0m \u001b[1;32min\u001b[0m \u001b[0mexprs\u001b[0m\u001b[1;33m)\u001b[0m\u001b[1;33m:\u001b[0m\u001b[1;33m\u001b[0m\u001b[1;33m\u001b[0m\u001b[0m\n",
      "\u001b[1;32mC:\\ProgramData\\Anaconda3\\lib\\site-packages\\sympy\\polys\\polyutils.py\u001b[0m in \u001b[0;36m<listcomp>\u001b[1;34m(.0)\u001b[0m\n\u001b[0;32m    324\u001b[0m     \u001b[1;34m\"\"\"Transform expressions into a multinomial form. \"\"\"\u001b[0m\u001b[1;33m\u001b[0m\u001b[1;33m\u001b[0m\u001b[0m\n\u001b[0;32m    325\u001b[0m     \u001b[1;32mif\u001b[0m \u001b[0mopt\u001b[0m\u001b[1;33m.\u001b[0m\u001b[0mexpand\u001b[0m \u001b[1;32mis\u001b[0m \u001b[1;32mnot\u001b[0m \u001b[1;32mFalse\u001b[0m\u001b[1;33m:\u001b[0m\u001b[1;33m\u001b[0m\u001b[1;33m\u001b[0m\u001b[0m\n\u001b[1;32m--> 326\u001b[1;33m         \u001b[0mexprs\u001b[0m \u001b[1;33m=\u001b[0m \u001b[1;33m[\u001b[0m \u001b[0mexpr\u001b[0m\u001b[1;33m.\u001b[0m\u001b[0mexpand\u001b[0m\u001b[1;33m(\u001b[0m\u001b[1;33m)\u001b[0m \u001b[1;32mfor\u001b[0m \u001b[0mexpr\u001b[0m \u001b[1;32min\u001b[0m \u001b[0mexprs\u001b[0m \u001b[1;33m]\u001b[0m\u001b[1;33m\u001b[0m\u001b[1;33m\u001b[0m\u001b[0m\n\u001b[0m\u001b[0;32m    327\u001b[0m \u001b[1;33m\u001b[0m\u001b[0m\n\u001b[0;32m    328\u001b[0m     \u001b[1;32mif\u001b[0m \u001b[0many\u001b[0m\u001b[1;33m(\u001b[0m\u001b[0mexpr\u001b[0m\u001b[1;33m.\u001b[0m\u001b[0mis_commutative\u001b[0m \u001b[1;32mis\u001b[0m \u001b[1;32mFalse\u001b[0m \u001b[1;32mfor\u001b[0m \u001b[0mexpr\u001b[0m \u001b[1;32min\u001b[0m \u001b[0mexprs\u001b[0m\u001b[1;33m)\u001b[0m\u001b[1;33m:\u001b[0m\u001b[1;33m\u001b[0m\u001b[1;33m\u001b[0m\u001b[0m\n",
      "\u001b[1;32mC:\\ProgramData\\Anaconda3\\lib\\site-packages\\sympy\\core\\cache.py\u001b[0m in \u001b[0;36mwrapper\u001b[1;34m(*args, **kwargs)\u001b[0m\n\u001b[0;32m     70\u001b[0m         \u001b[1;32mdef\u001b[0m \u001b[0mwrapper\u001b[0m\u001b[1;33m(\u001b[0m\u001b[1;33m*\u001b[0m\u001b[0margs\u001b[0m\u001b[1;33m,\u001b[0m \u001b[1;33m**\u001b[0m\u001b[0mkwargs\u001b[0m\u001b[1;33m)\u001b[0m\u001b[1;33m:\u001b[0m\u001b[1;33m\u001b[0m\u001b[1;33m\u001b[0m\u001b[0m\n\u001b[0;32m     71\u001b[0m             \u001b[1;32mtry\u001b[0m\u001b[1;33m:\u001b[0m\u001b[1;33m\u001b[0m\u001b[1;33m\u001b[0m\u001b[0m\n\u001b[1;32m---> 72\u001b[1;33m                 \u001b[0mretval\u001b[0m \u001b[1;33m=\u001b[0m \u001b[0mcfunc\u001b[0m\u001b[1;33m(\u001b[0m\u001b[1;33m*\u001b[0m\u001b[0margs\u001b[0m\u001b[1;33m,\u001b[0m \u001b[1;33m**\u001b[0m\u001b[0mkwargs\u001b[0m\u001b[1;33m)\u001b[0m\u001b[1;33m\u001b[0m\u001b[1;33m\u001b[0m\u001b[0m\n\u001b[0m\u001b[0;32m     73\u001b[0m             \u001b[1;32mexcept\u001b[0m \u001b[0mTypeError\u001b[0m \u001b[1;32mas\u001b[0m \u001b[0me\u001b[0m\u001b[1;33m:\u001b[0m\u001b[1;33m\u001b[0m\u001b[1;33m\u001b[0m\u001b[0m\n\u001b[0;32m     74\u001b[0m                 \u001b[1;32mif\u001b[0m \u001b[1;32mnot\u001b[0m \u001b[0me\u001b[0m\u001b[1;33m.\u001b[0m\u001b[0margs\u001b[0m \u001b[1;32mor\u001b[0m \u001b[1;32mnot\u001b[0m \u001b[0me\u001b[0m\u001b[1;33m.\u001b[0m\u001b[0margs\u001b[0m\u001b[1;33m[\u001b[0m\u001b[1;36m0\u001b[0m\u001b[1;33m]\u001b[0m\u001b[1;33m.\u001b[0m\u001b[0mstartswith\u001b[0m\u001b[1;33m(\u001b[0m\u001b[1;34m'unhashable type:'\u001b[0m\u001b[1;33m)\u001b[0m\u001b[1;33m:\u001b[0m\u001b[1;33m\u001b[0m\u001b[1;33m\u001b[0m\u001b[0m\n",
      "\u001b[1;32mC:\\ProgramData\\Anaconda3\\lib\\site-packages\\sympy\\core\\expr.py\u001b[0m in \u001b[0;36mexpand\u001b[1;34m(self, deep, modulus, power_base, power_exp, mul, log, multinomial, basic, **hints)\u001b[0m\n\u001b[0;32m   3620\u001b[0m             \u001b[1;32mif\u001b[0m \u001b[0muse_hint\u001b[0m\u001b[1;33m:\u001b[0m\u001b[1;33m\u001b[0m\u001b[1;33m\u001b[0m\u001b[0m\n\u001b[0;32m   3621\u001b[0m                 \u001b[0mhint\u001b[0m \u001b[1;33m=\u001b[0m \u001b[1;34m'_eval_expand_'\u001b[0m \u001b[1;33m+\u001b[0m \u001b[0mhint\u001b[0m\u001b[1;33m\u001b[0m\u001b[1;33m\u001b[0m\u001b[0m\n\u001b[1;32m-> 3622\u001b[1;33m                 \u001b[0mexpr\u001b[0m\u001b[1;33m,\u001b[0m \u001b[0mhit\u001b[0m \u001b[1;33m=\u001b[0m \u001b[0mExpr\u001b[0m\u001b[1;33m.\u001b[0m\u001b[0m_expand_hint\u001b[0m\u001b[1;33m(\u001b[0m\u001b[0mexpr\u001b[0m\u001b[1;33m,\u001b[0m \u001b[0mhint\u001b[0m\u001b[1;33m,\u001b[0m \u001b[0mdeep\u001b[0m\u001b[1;33m=\u001b[0m\u001b[0mdeep\u001b[0m\u001b[1;33m,\u001b[0m \u001b[1;33m**\u001b[0m\u001b[0mhints\u001b[0m\u001b[1;33m)\u001b[0m\u001b[1;33m\u001b[0m\u001b[1;33m\u001b[0m\u001b[0m\n\u001b[0m\u001b[0;32m   3623\u001b[0m \u001b[1;33m\u001b[0m\u001b[0m\n\u001b[0;32m   3624\u001b[0m         \u001b[1;32mwhile\u001b[0m \u001b[1;32mTrue\u001b[0m\u001b[1;33m:\u001b[0m\u001b[1;33m\u001b[0m\u001b[1;33m\u001b[0m\u001b[0m\n",
      "\u001b[1;32mC:\\ProgramData\\Anaconda3\\lib\\site-packages\\sympy\\core\\expr.py\u001b[0m in \u001b[0;36m_expand_hint\u001b[1;34m(expr, hint, deep, **hints)\u001b[0m\n\u001b[0;32m   3553\u001b[0m             \u001b[0msargs\u001b[0m \u001b[1;33m=\u001b[0m \u001b[1;33m[\u001b[0m\u001b[1;33m]\u001b[0m\u001b[1;33m\u001b[0m\u001b[1;33m\u001b[0m\u001b[0m\n\u001b[0;32m   3554\u001b[0m             \u001b[1;32mfor\u001b[0m \u001b[0marg\u001b[0m \u001b[1;32min\u001b[0m \u001b[0mexpr\u001b[0m\u001b[1;33m.\u001b[0m\u001b[0margs\u001b[0m\u001b[1;33m:\u001b[0m\u001b[1;33m\u001b[0m\u001b[1;33m\u001b[0m\u001b[0m\n\u001b[1;32m-> 3555\u001b[1;33m                 \u001b[0marg\u001b[0m\u001b[1;33m,\u001b[0m \u001b[0marghit\u001b[0m \u001b[1;33m=\u001b[0m \u001b[0mExpr\u001b[0m\u001b[1;33m.\u001b[0m\u001b[0m_expand_hint\u001b[0m\u001b[1;33m(\u001b[0m\u001b[0marg\u001b[0m\u001b[1;33m,\u001b[0m \u001b[0mhint\u001b[0m\u001b[1;33m,\u001b[0m \u001b[1;33m**\u001b[0m\u001b[0mhints\u001b[0m\u001b[1;33m)\u001b[0m\u001b[1;33m\u001b[0m\u001b[1;33m\u001b[0m\u001b[0m\n\u001b[0m\u001b[0;32m   3556\u001b[0m                 \u001b[0mhit\u001b[0m \u001b[1;33m|=\u001b[0m \u001b[0marghit\u001b[0m\u001b[1;33m\u001b[0m\u001b[1;33m\u001b[0m\u001b[0m\n\u001b[0;32m   3557\u001b[0m                 \u001b[0msargs\u001b[0m\u001b[1;33m.\u001b[0m\u001b[0mappend\u001b[0m\u001b[1;33m(\u001b[0m\u001b[0marg\u001b[0m\u001b[1;33m)\u001b[0m\u001b[1;33m\u001b[0m\u001b[1;33m\u001b[0m\u001b[0m\n",
      "\u001b[1;32mC:\\ProgramData\\Anaconda3\\lib\\site-packages\\sympy\\core\\expr.py\u001b[0m in \u001b[0;36m_expand_hint\u001b[1;34m(expr, hint, deep, **hints)\u001b[0m\n\u001b[0;32m   3553\u001b[0m             \u001b[0msargs\u001b[0m \u001b[1;33m=\u001b[0m \u001b[1;33m[\u001b[0m\u001b[1;33m]\u001b[0m\u001b[1;33m\u001b[0m\u001b[1;33m\u001b[0m\u001b[0m\n\u001b[0;32m   3554\u001b[0m             \u001b[1;32mfor\u001b[0m \u001b[0marg\u001b[0m \u001b[1;32min\u001b[0m \u001b[0mexpr\u001b[0m\u001b[1;33m.\u001b[0m\u001b[0margs\u001b[0m\u001b[1;33m:\u001b[0m\u001b[1;33m\u001b[0m\u001b[1;33m\u001b[0m\u001b[0m\n\u001b[1;32m-> 3555\u001b[1;33m                 \u001b[0marg\u001b[0m\u001b[1;33m,\u001b[0m \u001b[0marghit\u001b[0m \u001b[1;33m=\u001b[0m \u001b[0mExpr\u001b[0m\u001b[1;33m.\u001b[0m\u001b[0m_expand_hint\u001b[0m\u001b[1;33m(\u001b[0m\u001b[0marg\u001b[0m\u001b[1;33m,\u001b[0m \u001b[0mhint\u001b[0m\u001b[1;33m,\u001b[0m \u001b[1;33m**\u001b[0m\u001b[0mhints\u001b[0m\u001b[1;33m)\u001b[0m\u001b[1;33m\u001b[0m\u001b[1;33m\u001b[0m\u001b[0m\n\u001b[0m\u001b[0;32m   3556\u001b[0m                 \u001b[0mhit\u001b[0m \u001b[1;33m|=\u001b[0m \u001b[0marghit\u001b[0m\u001b[1;33m\u001b[0m\u001b[1;33m\u001b[0m\u001b[0m\n\u001b[0;32m   3557\u001b[0m                 \u001b[0msargs\u001b[0m\u001b[1;33m.\u001b[0m\u001b[0mappend\u001b[0m\u001b[1;33m(\u001b[0m\u001b[0marg\u001b[0m\u001b[1;33m)\u001b[0m\u001b[1;33m\u001b[0m\u001b[1;33m\u001b[0m\u001b[0m\n",
      "\u001b[1;32mC:\\ProgramData\\Anaconda3\\lib\\site-packages\\sympy\\core\\expr.py\u001b[0m in \u001b[0;36m_expand_hint\u001b[1;34m(expr, hint, deep, **hints)\u001b[0m\n\u001b[0;32m   3561\u001b[0m \u001b[1;33m\u001b[0m\u001b[0m\n\u001b[0;32m   3562\u001b[0m         \u001b[1;32mif\u001b[0m \u001b[0mhasattr\u001b[0m\u001b[1;33m(\u001b[0m\u001b[0mexpr\u001b[0m\u001b[1;33m,\u001b[0m \u001b[0mhint\u001b[0m\u001b[1;33m)\u001b[0m\u001b[1;33m:\u001b[0m\u001b[1;33m\u001b[0m\u001b[1;33m\u001b[0m\u001b[0m\n\u001b[1;32m-> 3563\u001b[1;33m             \u001b[0mnewexpr\u001b[0m \u001b[1;33m=\u001b[0m \u001b[0mgetattr\u001b[0m\u001b[1;33m(\u001b[0m\u001b[0mexpr\u001b[0m\u001b[1;33m,\u001b[0m \u001b[0mhint\u001b[0m\u001b[1;33m)\u001b[0m\u001b[1;33m(\u001b[0m\u001b[1;33m**\u001b[0m\u001b[0mhints\u001b[0m\u001b[1;33m)\u001b[0m\u001b[1;33m\u001b[0m\u001b[1;33m\u001b[0m\u001b[0m\n\u001b[0m\u001b[0;32m   3564\u001b[0m             \u001b[1;32mif\u001b[0m \u001b[0mnewexpr\u001b[0m \u001b[1;33m!=\u001b[0m \u001b[0mexpr\u001b[0m\u001b[1;33m:\u001b[0m\u001b[1;33m\u001b[0m\u001b[1;33m\u001b[0m\u001b[0m\n\u001b[0;32m   3565\u001b[0m                 \u001b[1;32mreturn\u001b[0m \u001b[1;33m(\u001b[0m\u001b[0mnewexpr\u001b[0m\u001b[1;33m,\u001b[0m \u001b[1;32mTrue\u001b[0m\u001b[1;33m)\u001b[0m\u001b[1;33m\u001b[0m\u001b[1;33m\u001b[0m\u001b[0m\n",
      "\u001b[1;32mC:\\ProgramData\\Anaconda3\\lib\\site-packages\\sympy\\core\\power.py\u001b[0m in \u001b[0;36m_eval_expand_multinomial\u001b[1;34m(self, **hints)\u001b[0m\n\u001b[0;32m   1220\u001b[0m                 \u001b[1;31m# in our example: {(3, 0): 1, (1, 2): 3, (0, 3): 1, (2, 1): 3}\u001b[0m\u001b[1;33m\u001b[0m\u001b[1;33m\u001b[0m\u001b[0m\n\u001b[0;32m   1221\u001b[0m                 \u001b[1;31m# and now construct the expression.\u001b[0m\u001b[1;33m\u001b[0m\u001b[1;33m\u001b[0m\u001b[0m\n\u001b[1;32m-> 1222\u001b[1;33m                 \u001b[1;32mreturn\u001b[0m \u001b[0mbasic_from_dict\u001b[0m\u001b[1;33m(\u001b[0m\u001b[0mexpansion_dict\u001b[0m\u001b[1;33m,\u001b[0m \u001b[1;33m*\u001b[0m\u001b[0mp\u001b[0m\u001b[1;33m)\u001b[0m\u001b[1;33m\u001b[0m\u001b[1;33m\u001b[0m\u001b[0m\n\u001b[0m\u001b[0;32m   1223\u001b[0m             \u001b[1;32melse\u001b[0m\u001b[1;33m:\u001b[0m\u001b[1;33m\u001b[0m\u001b[1;33m\u001b[0m\u001b[0m\n\u001b[0;32m   1224\u001b[0m                 \u001b[1;32mif\u001b[0m \u001b[0mn\u001b[0m \u001b[1;33m==\u001b[0m \u001b[1;36m2\u001b[0m\u001b[1;33m:\u001b[0m\u001b[1;33m\u001b[0m\u001b[1;33m\u001b[0m\u001b[0m\n",
      "\u001b[1;32mC:\\ProgramData\\Anaconda3\\lib\\site-packages\\sympy\\polys\\polyutils.py\u001b[0m in \u001b[0;36mexpr_from_dict\u001b[1;34m(rep, *gens)\u001b[0m\n\u001b[0;32m    383\u001b[0m                 \u001b[0mterm\u001b[0m\u001b[1;33m.\u001b[0m\u001b[0mappend\u001b[0m\u001b[1;33m(\u001b[0m\u001b[0mPow\u001b[0m\u001b[1;33m(\u001b[0m\u001b[0mg\u001b[0m\u001b[1;33m,\u001b[0m \u001b[0mm\u001b[0m\u001b[1;33m)\u001b[0m\u001b[1;33m)\u001b[0m\u001b[1;33m\u001b[0m\u001b[1;33m\u001b[0m\u001b[0m\n\u001b[0;32m    384\u001b[0m \u001b[1;33m\u001b[0m\u001b[0m\n\u001b[1;32m--> 385\u001b[1;33m         \u001b[0mresult\u001b[0m\u001b[1;33m.\u001b[0m\u001b[0mappend\u001b[0m\u001b[1;33m(\u001b[0m\u001b[0mMul\u001b[0m\u001b[1;33m(\u001b[0m\u001b[1;33m*\u001b[0m\u001b[0mterm\u001b[0m\u001b[1;33m)\u001b[0m\u001b[1;33m)\u001b[0m\u001b[1;33m\u001b[0m\u001b[1;33m\u001b[0m\u001b[0m\n\u001b[0m\u001b[0;32m    386\u001b[0m \u001b[1;33m\u001b[0m\u001b[0m\n\u001b[0;32m    387\u001b[0m     \u001b[1;32mreturn\u001b[0m \u001b[0mAdd\u001b[0m\u001b[1;33m(\u001b[0m\u001b[1;33m*\u001b[0m\u001b[0mresult\u001b[0m\u001b[1;33m)\u001b[0m\u001b[1;33m\u001b[0m\u001b[1;33m\u001b[0m\u001b[0m\n",
      "\u001b[1;32mC:\\ProgramData\\Anaconda3\\lib\\site-packages\\sympy\\core\\cache.py\u001b[0m in \u001b[0;36mwrapper\u001b[1;34m(*args, **kwargs)\u001b[0m\n\u001b[0;32m     70\u001b[0m         \u001b[1;32mdef\u001b[0m \u001b[0mwrapper\u001b[0m\u001b[1;33m(\u001b[0m\u001b[1;33m*\u001b[0m\u001b[0margs\u001b[0m\u001b[1;33m,\u001b[0m \u001b[1;33m**\u001b[0m\u001b[0mkwargs\u001b[0m\u001b[1;33m)\u001b[0m\u001b[1;33m:\u001b[0m\u001b[1;33m\u001b[0m\u001b[1;33m\u001b[0m\u001b[0m\n\u001b[0;32m     71\u001b[0m             \u001b[1;32mtry\u001b[0m\u001b[1;33m:\u001b[0m\u001b[1;33m\u001b[0m\u001b[1;33m\u001b[0m\u001b[0m\n\u001b[1;32m---> 72\u001b[1;33m                 \u001b[0mretval\u001b[0m \u001b[1;33m=\u001b[0m \u001b[0mcfunc\u001b[0m\u001b[1;33m(\u001b[0m\u001b[1;33m*\u001b[0m\u001b[0margs\u001b[0m\u001b[1;33m,\u001b[0m \u001b[1;33m**\u001b[0m\u001b[0mkwargs\u001b[0m\u001b[1;33m)\u001b[0m\u001b[1;33m\u001b[0m\u001b[1;33m\u001b[0m\u001b[0m\n\u001b[0m\u001b[0;32m     73\u001b[0m             \u001b[1;32mexcept\u001b[0m \u001b[0mTypeError\u001b[0m \u001b[1;32mas\u001b[0m \u001b[0me\u001b[0m\u001b[1;33m:\u001b[0m\u001b[1;33m\u001b[0m\u001b[1;33m\u001b[0m\u001b[0m\n\u001b[0;32m     74\u001b[0m                 \u001b[1;32mif\u001b[0m \u001b[1;32mnot\u001b[0m \u001b[0me\u001b[0m\u001b[1;33m.\u001b[0m\u001b[0margs\u001b[0m \u001b[1;32mor\u001b[0m \u001b[1;32mnot\u001b[0m \u001b[0me\u001b[0m\u001b[1;33m.\u001b[0m\u001b[0margs\u001b[0m\u001b[1;33m[\u001b[0m\u001b[1;36m0\u001b[0m\u001b[1;33m]\u001b[0m\u001b[1;33m.\u001b[0m\u001b[0mstartswith\u001b[0m\u001b[1;33m(\u001b[0m\u001b[1;34m'unhashable type:'\u001b[0m\u001b[1;33m)\u001b[0m\u001b[1;33m:\u001b[0m\u001b[1;33m\u001b[0m\u001b[1;33m\u001b[0m\u001b[0m\n",
      "\u001b[1;32mC:\\ProgramData\\Anaconda3\\lib\\site-packages\\sympy\\core\\operations.py\u001b[0m in \u001b[0;36m__new__\u001b[1;34m(cls, evaluate, _sympify, *args)\u001b[0m\n\u001b[0;32m     83\u001b[0m             \u001b[1;32mreturn\u001b[0m \u001b[0margs\u001b[0m\u001b[1;33m[\u001b[0m\u001b[1;36m0\u001b[0m\u001b[1;33m]\u001b[0m\u001b[1;33m\u001b[0m\u001b[1;33m\u001b[0m\u001b[0m\n\u001b[0;32m     84\u001b[0m \u001b[1;33m\u001b[0m\u001b[0m\n\u001b[1;32m---> 85\u001b[1;33m         \u001b[0mc_part\u001b[0m\u001b[1;33m,\u001b[0m \u001b[0mnc_part\u001b[0m\u001b[1;33m,\u001b[0m \u001b[0morder_symbols\u001b[0m \u001b[1;33m=\u001b[0m \u001b[0mcls\u001b[0m\u001b[1;33m.\u001b[0m\u001b[0mflatten\u001b[0m\u001b[1;33m(\u001b[0m\u001b[0margs\u001b[0m\u001b[1;33m)\u001b[0m\u001b[1;33m\u001b[0m\u001b[1;33m\u001b[0m\u001b[0m\n\u001b[0m\u001b[0;32m     86\u001b[0m         \u001b[0mis_commutative\u001b[0m \u001b[1;33m=\u001b[0m \u001b[1;32mnot\u001b[0m \u001b[0mnc_part\u001b[0m\u001b[1;33m\u001b[0m\u001b[1;33m\u001b[0m\u001b[0m\n\u001b[0;32m     87\u001b[0m         \u001b[0mobj\u001b[0m \u001b[1;33m=\u001b[0m \u001b[0mcls\u001b[0m\u001b[1;33m.\u001b[0m\u001b[0m_from_args\u001b[0m\u001b[1;33m(\u001b[0m\u001b[0mc_part\u001b[0m \u001b[1;33m+\u001b[0m \u001b[0mnc_part\u001b[0m\u001b[1;33m,\u001b[0m \u001b[0mis_commutative\u001b[0m\u001b[1;33m)\u001b[0m\u001b[1;33m\u001b[0m\u001b[1;33m\u001b[0m\u001b[0m\n",
      "\u001b[1;32mC:\\ProgramData\\Anaconda3\\lib\\site-packages\\sympy\\core\\mul.py\u001b[0m in \u001b[0;36mflatten\u001b[1;34m(cls, seq)\u001b[0m\n\u001b[0;32m    519\u001b[0m                         \u001b[0mbi\u001b[0m \u001b[1;33m=\u001b[0m \u001b[0mb\u001b[0m\u001b[1;33m\u001b[0m\u001b[1;33m\u001b[0m\u001b[0m\n\u001b[0;32m    520\u001b[0m                         \u001b[0mb\u001b[0m\u001b[1;33m,\u001b[0m \u001b[0me\u001b[0m \u001b[1;33m=\u001b[0m \u001b[0mp\u001b[0m\u001b[1;33m.\u001b[0m\u001b[0mas_base_exp\u001b[0m\u001b[1;33m(\u001b[0m\u001b[1;33m)\u001b[0m\u001b[1;33m\u001b[0m\u001b[1;33m\u001b[0m\u001b[0m\n\u001b[1;32m--> 521\u001b[1;33m                         \u001b[1;32mif\u001b[0m \u001b[0mb\u001b[0m \u001b[1;33m!=\u001b[0m \u001b[0mbi\u001b[0m\u001b[1;33m:\u001b[0m\u001b[1;33m\u001b[0m\u001b[1;33m\u001b[0m\u001b[0m\n\u001b[0m\u001b[0;32m    522\u001b[0m                             \u001b[0mchanged\u001b[0m \u001b[1;33m=\u001b[0m \u001b[1;32mTrue\u001b[0m\u001b[1;33m\u001b[0m\u001b[1;33m\u001b[0m\u001b[0m\n\u001b[0;32m    523\u001b[0m                 \u001b[0mc_part\u001b[0m\u001b[1;33m.\u001b[0m\u001b[0mappend\u001b[0m\u001b[1;33m(\u001b[0m\u001b[0mp\u001b[0m\u001b[1;33m)\u001b[0m\u001b[1;33m\u001b[0m\u001b[1;33m\u001b[0m\u001b[0m\n",
      "\u001b[1;32mC:\\ProgramData\\Anaconda3\\lib\\site-packages\\sympy\\core\\basic.py\u001b[0m in \u001b[0;36m__ne__\u001b[1;34m(self, other)\u001b[0m\n\u001b[0;32m    366\u001b[0m         \u001b[0mbut\u001b[0m \u001b[0mfaster\u001b[0m\u001b[1;33m\u001b[0m\u001b[1;33m\u001b[0m\u001b[0m\n\u001b[0;32m    367\u001b[0m         \"\"\"\n\u001b[1;32m--> 368\u001b[1;33m         \u001b[1;32mreturn\u001b[0m \u001b[1;32mnot\u001b[0m \u001b[0mself\u001b[0m \u001b[1;33m==\u001b[0m \u001b[0mother\u001b[0m\u001b[1;33m\u001b[0m\u001b[1;33m\u001b[0m\u001b[0m\n\u001b[0m\u001b[0;32m    369\u001b[0m \u001b[1;33m\u001b[0m\u001b[0m\n\u001b[0;32m    370\u001b[0m     \u001b[1;32mdef\u001b[0m \u001b[0mdummy_eq\u001b[0m\u001b[1;33m(\u001b[0m\u001b[0mself\u001b[0m\u001b[1;33m,\u001b[0m \u001b[0mother\u001b[0m\u001b[1;33m,\u001b[0m \u001b[0msymbol\u001b[0m\u001b[1;33m=\u001b[0m\u001b[1;32mNone\u001b[0m\u001b[1;33m)\u001b[0m\u001b[1;33m:\u001b[0m\u001b[1;33m\u001b[0m\u001b[1;33m\u001b[0m\u001b[0m\n",
      "\u001b[1;32mC:\\ProgramData\\Anaconda3\\lib\\site-packages\\sympy\\core\\expr.py\u001b[0m in \u001b[0;36m__eq__\u001b[1;34m(self, other)\u001b[0m\n\u001b[0;32m    144\u001b[0m     \u001b[1;32mdef\u001b[0m \u001b[0m__eq__\u001b[0m\u001b[1;33m(\u001b[0m\u001b[0mself\u001b[0m\u001b[1;33m,\u001b[0m \u001b[0mother\u001b[0m\u001b[1;33m)\u001b[0m\u001b[1;33m:\u001b[0m\u001b[1;33m\u001b[0m\u001b[1;33m\u001b[0m\u001b[0m\n\u001b[0;32m    145\u001b[0m         \u001b[1;32mtry\u001b[0m\u001b[1;33m:\u001b[0m\u001b[1;33m\u001b[0m\u001b[1;33m\u001b[0m\u001b[0m\n\u001b[1;32m--> 146\u001b[1;33m             \u001b[0mother\u001b[0m \u001b[1;33m=\u001b[0m \u001b[0m_sympify\u001b[0m\u001b[1;33m(\u001b[0m\u001b[0mother\u001b[0m\u001b[1;33m)\u001b[0m\u001b[1;33m\u001b[0m\u001b[1;33m\u001b[0m\u001b[0m\n\u001b[0m\u001b[0;32m    147\u001b[0m             \u001b[1;32mif\u001b[0m \u001b[1;32mnot\u001b[0m \u001b[0misinstance\u001b[0m\u001b[1;33m(\u001b[0m\u001b[0mother\u001b[0m\u001b[1;33m,\u001b[0m \u001b[0mExpr\u001b[0m\u001b[1;33m)\u001b[0m\u001b[1;33m:\u001b[0m\u001b[1;33m\u001b[0m\u001b[1;33m\u001b[0m\u001b[0m\n\u001b[0;32m    148\u001b[0m                 \u001b[1;32mreturn\u001b[0m \u001b[1;32mFalse\u001b[0m\u001b[1;33m\u001b[0m\u001b[1;33m\u001b[0m\u001b[0m\n",
      "\u001b[1;32mC:\\ProgramData\\Anaconda3\\lib\\site-packages\\sympy\\core\\sympify.py\u001b[0m in \u001b[0;36m_sympify\u001b[1;34m(a)\u001b[0m\n\u001b[0;32m    503\u001b[0m \u001b[1;33m\u001b[0m\u001b[0m\n\u001b[0;32m    504\u001b[0m     \"\"\"\n\u001b[1;32m--> 505\u001b[1;33m     \u001b[1;32mreturn\u001b[0m \u001b[0msympify\u001b[0m\u001b[1;33m(\u001b[0m\u001b[0ma\u001b[0m\u001b[1;33m,\u001b[0m \u001b[0mstrict\u001b[0m\u001b[1;33m=\u001b[0m\u001b[1;32mTrue\u001b[0m\u001b[1;33m)\u001b[0m\u001b[1;33m\u001b[0m\u001b[1;33m\u001b[0m\u001b[0m\n\u001b[0m\u001b[0;32m    506\u001b[0m \u001b[1;33m\u001b[0m\u001b[0m\n\u001b[0;32m    507\u001b[0m \u001b[1;33m\u001b[0m\u001b[0m\n",
      "\u001b[1;31mKeyboardInterrupt\u001b[0m: "
     ]
    }
   ],
   "source": [
    "\n",
    "I1 = 1/12*L1*L1*M1\n",
    "I2 = 1/12*L2*L2*M2\n",
    "\n",
    "d1 = L1/2\n",
    "d2 = L2/2\n",
    "\n",
    "P1 = smp.Matrix([ - L2*smp.cos(th1 + th2) - L1*smp.cos(th1) ,\n",
    "                   - L2*smp.sin(th1 + th2) - L1*smp.sin(th1) ])\n",
    "   \n",
    "P2 = smp.Matrix([ - L2*smp.cos(th1 + th2) ,\n",
    "                   - L2*smp.sin(th1 + th2) ])\n",
    " \n",
    "M = smp.Matrix([ [I2 + I1 + 2*M2*d2*L1*smp.cos(th2) + M2*L1*L1 + M2*d2*d2 + M1*d1*d1  , I2 + d2*d2 * M2 + M2*d2*L1*smp.cos(th2)] ,\n",
    "                  [I2 + d2*M2*L1*smp.cos(th2) + M2*d2*d2                             , I2 + d2*d2 * M2                      ]])\n",
    "          \n",
    "B = smp.Matrix([ - d2*M2*L1*th2d*th2d*smp.sin(th2) - 2*M2*d2*L1*th1d*th2d*smp.sin(th2),\n",
    "                    d2*M2*L1*smp.sin(th2)*th1d*th1d])\n",
    "              \n",
    "G = smp.Matrix([ - g*M2*d2*smp.sin(th1 + th2) - (M2*L1 + d1*M1)*g*smp.sin(th1) ,\n",
    "                  - d2*g*M2*smp.sin(th1 + th2)                              ])\n",
    "      \n",
    "T = smp.Matrix([ T1 ,\n",
    "                  T2 ])\n",
    "\n",
    "thedd = smp.Matrix([th1dd, th2dd])\n",
    "  \n",
    "Zero = M * thedd + B + G - T\n",
    "\n",
    "sols = smp.solve(Zero, (th1dd, th2dd), simplify=True, rational=True)\n",
    "\n",
    "th1ddSol = sols[th1dd]\n",
    "th2ddSol = sols[th2dd]"
   ]
  },
  {
   "cell_type": "markdown",
   "id": "0cd83253-6ce2-4164-aab6-5f650b5c36d5",
   "metadata": {},
   "source": [
    "Gravity Compensation"
   ]
  },
  {
   "cell_type": "code",
   "execution_count": null,
   "id": "764d7d78-6150-461b-8c24-9a91c66b1ad0",
   "metadata": {
    "jupyter": {
     "source_hidden": true
    },
    "tags": []
   },
   "outputs": [],
   "source": [
    "gravityCompSols = smp.solve([sols[th1dd], sols[th2dd]], (T1, T2), simplify=True, rational=True)\n",
    "\n",
    "gravityComp1Sol = gravityCompSols[T1]\n",
    "gravityComp2Sol = gravityCompSols[T2]"
   ]
  },
  {
   "cell_type": "markdown",
   "id": "e448c1fb-3c68-4477-a89b-6fe46055296a",
   "metadata": {},
   "source": [
    "Impedance Control"
   ]
  },
  {
   "cell_type": "code",
   "execution_count": null,
   "id": "6233d1b4-80b5-47fc-acd7-deb16c01f5a1",
   "metadata": {
    "jupyter": {
     "source_hidden": true
    },
    "tags": []
   },
   "outputs": [],
   "source": [
    "J = smp.Matrix([[- L2*smp.cos(th1 + th2) - L1*smp.cos(th1), -L2*smp.cos(th1 + th2)],\n",
    "                [- L2*smp.sin(th1 + th2) - L1*smp.sin(th1), -L2*smp.sin(th1 + th2)],\n",
    "                [                                0,                  0]])\n",
    "\n",
    "\n",
    "desiredPosition = smp.Matrix([desiredX, desiredY, 0 ])\n",
    "desiredVelocity = smp.Matrix([desiredXdott, desiredYdott, 0])\n",
    "\n",
    "thed = smp.Matrix([th1d, th2d])\n",
    "\n",
    "currentPosition = smp.Matrix([currentX,  currentY, 0])\n",
    "\n",
    "impedanceControl = J.T*(KP*(desiredPosition - currentPosition) + KD*(desiredVelocity - J*thed))\n",
    "\n",
    "impedanceControl1, impedanceControl2 = impedanceControl "
   ]
  },
  {
   "cell_type": "markdown",
   "id": "bdbd01f8-e7c4-4231-9642-63e88ed71503",
   "metadata": {},
   "source": [
    "Save/Pickle variables"
   ]
  },
  {
   "cell_type": "code",
   "execution_count": null,
   "id": "da2ee279-5f94-4779-9a65-8ab87c7eeaf0",
   "metadata": {
    "jupyter": {
     "source_hidden": true
    },
    "tags": []
   },
   "outputs": [],
   "source": [
    "stuff = {\n",
    "    \"thdotdot1\": th1ddSol,\n",
    "    \"thdotdot2\": th2ddSol,\n",
    "    \"impedanceControl1\": impedanceControl1,\n",
    "    \"impedanceControl2\": impedanceControl2,\n",
    "    \"gravityCompensation1\": gravityComp1Sol,\n",
    "    \"gravityCompensation2\": gravityComp2Sol\n",
    "}\n",
    "\n",
    "with open(filename, 'wb') as f:\n",
    "    pickle.dump(stuff, f)"
   ]
  },
  {
   "cell_type": "markdown",
   "id": "8a2054ee-e37b-4d45-a933-5614acda8321",
   "metadata": {},
   "source": [
    "Load/Unpickle variables"
   ]
  },
  {
   "cell_type": "code",
   "execution_count": 3,
   "id": "1169356d-0bbe-4496-88c6-7f731a7b64c5",
   "metadata": {},
   "outputs": [],
   "source": [
    "with open(filename, 'rb') as f:\n",
    "    stuff = pickle.load(f)\n",
    "    \n",
    "th1ddSol = stuff['thdotdot1']\n",
    "th2ddSol = stuff['thdotdot2']\n",
    "impedanceControl1 = stuff['impedanceControl1']\n",
    "impedanceControl2 = stuff['impedanceControl2']\n",
    "gravityComp1Sol = stuff['gravityCompensation1']\n",
    "gravityComp2Sol = stuff['gravityCompensation2']\n"
   ]
  },
  {
   "cell_type": "markdown",
   "id": "fd5bf9ea-3132-4c1d-8506-a02e5e2255d1",
   "metadata": {},
   "source": [
    "Turn formulas into functions"
   ]
  },
  {
   "cell_type": "code",
   "execution_count": 4,
   "id": "3566a516-e734-45f1-bb83-cab3879a955e",
   "metadata": {},
   "outputs": [],
   "source": [
    "thdotdot1_f = smp.lambdify( (T1, T2, g, M1, M2, L1, L2, th1, th2, th1d, th2d) , th1ddSol)\n",
    "thdotdot2_f = smp.lambdify( (T1, T2, g, M1, M2, L1, L2, th1, th2, th1d, th2d) , th2ddSol)\n",
    "\n",
    "gravityCompensation1_f = smp.lambdify((g, M1, M2, L1, L2, th1, th2, th1d, th2d), gravityComp1Sol)\n",
    "gravityCompensation2_f = smp.lambdify((g, M1, M2, L1, L2, th1, th2, th1d, th2d), gravityComp2Sol)\n",
    "\n",
    "impedanceControl1_f = smp.lambdify((KP, KD, desiredX, desiredY, desiredXdott, desiredYdott, currentX, currentY, L1, L2, th1, th2, th1d, th2d), impedanceControl1)\n",
    "impedanceControl2_f = smp.lambdify((KP, KD, desiredX, desiredY, desiredXdott, desiredYdott, currentX, currentY, L1, L2, th1, th2, th1d, th2d), impedanceControl2)"
   ]
  },
  {
   "cell_type": "markdown",
   "id": "4908ca45-b18d-460e-9f95-b7cc4c30e396",
   "metadata": {},
   "source": [
    "Constants"
   ]
  },
  {
   "cell_type": "code",
   "execution_count": 5,
   "id": "14584075-d109-41be-8147-fa289d1c9055",
   "metadata": {},
   "outputs": [],
   "source": [
    "m1 = 1\n",
    "m2 = 1\n",
    "l1 = 1\n",
    "l2 = 1\n",
    "g_ = 9.8\n",
    "Kp = 27 #10\n",
    "Kd = 0 #8"
   ]
  },
  {
   "cell_type": "markdown",
   "id": "55b8dce2-d271-4df5-85f8-31f273a1bdf5",
   "metadata": {},
   "source": [
    "Forward Kinematics"
   ]
  },
  {
   "cell_type": "code",
   "execution_count": 6,
   "id": "e242edbb-a16d-4ed9-85dd-29b3c2eb2f53",
   "metadata": {
    "tags": []
   },
   "outputs": [],
   "source": [
    "def forwardKin(the1, the2):\n",
    "    x = - l2*np.sin(the1 + the2) - l1*np.sin(the1)\n",
    "    y = l2*np.cos(the1 + the2) + l1*np.cos(the1)\n",
    "    return x, y\n",
    "\n",
    "def forwardElbowKin(the1):\n",
    "    x = -l1*np.sin(the1)\n",
    "    y = l1*np.cos(the1)\n",
    "    return x, y\n",
    "\n",
    "def center_me(x, y): # we have casual coordinates but we want zero to be the middle of screen with a range of -4 to 4 just bcz it works with our other values\n",
    "    x = x*2/100 - 4\n",
    "    y = - y*2/100 + 4\n",
    "    return x, y"
   ]
  },
  {
   "cell_type": "markdown",
   "id": "e4f098e5-d3db-4a59-a96f-ad9dfda4a2b5",
   "metadata": {},
   "source": [
    "Physics Init"
   ]
  },
  {
   "cell_type": "code",
   "execution_count": 7,
   "id": "68828200-d04b-4999-989b-273688473d48",
   "metadata": {
    "tags": []
   },
   "outputs": [],
   "source": [
    "initial_theta1 = np.pi*1/4\n",
    "initial_theta1dot = 0\n",
    "initial_theta2 = np.pi*1/4\n",
    "initial_theta2dot = 0\n",
    "\n",
    "initial_desiredX, initial_desiredY = [0, 0]\n",
    "initial_desiredXdott = 0\n",
    "initial_desiredYdott = 0\n",
    "\n",
    "dt = 0.04\n",
    "\n",
    "class Arm:\n",
    "    def __init__(self, m1, m2, l1, l2, g, theta1, theta2, theta1dot, theta2dot, Kp, Kd, initial_desiredX, initial_desiredY, initial_desiredXdott, initial_desiredYdott):\n",
    "        self.m1 = m1\n",
    "        self.m2 = m2\n",
    "        self.l1 = l1\n",
    "        self.l2 = l2\n",
    "        self.g = g\n",
    "        self.theta1 = theta1\n",
    "        self.theta2 = theta2\n",
    "        self.theta1dot = theta1dot\n",
    "        self.theta2dot = theta2dot\n",
    "        self.Kp = Kp\n",
    "        self.Kd = Kd\n",
    "        self.desiredX = initial_desiredX\n",
    "        self.desiredY = initial_desiredY\n",
    "        self.desiredXdott = initial_desiredXdott\n",
    "        self.desiredYdott = initial_desiredYdott\n",
    "        \n",
    "        self.initial_theta1 = theta1\n",
    "        self.initial_theta2 = theta2\n",
    "        self.initial_theta1dot = theta1dot\n",
    "        self.initial_theta2dot = theta2dot\n",
    "        self.success_printed = False\n",
    "        self.previous_error = 0\n",
    "        \n",
    "        # some forward kinematics that'll be needed in reporting the current error and for drawing later on\n",
    "        self.forwardKin()\n",
    "        \n",
    "    def forwardKin(self):\n",
    "        # some forward kinematics that'll be needed in reporting the current error and for drawing later on\n",
    "        xElbow, yElbow = forwardElbowKin(self.theta1)\n",
    "        xEndEffector, yEndEffector = forwardKin(self.theta1, self.theta2)\n",
    "\n",
    "        # this is just to center and scale the arm in frame instead of having its fixed point at 0, 0\n",
    "        elbow = (200 + xElbow*70, 200 - yElbow*70)\n",
    "        end_effector = (200 + xEndEffector*70, 200 - yEndEffector*70)\n",
    "\n",
    "        # turn its values into integers because u can't draw with floats in opencv\n",
    "        self.elbow = (int(elbow[0]), int(elbow[1]))\n",
    "        self.end_effector = (int(end_effector[0]), int(end_effector[1]))\n",
    "        \n",
    "    def reset(self):\n",
    "        self.theta1 = self.initial_theta1\n",
    "        self.theta2 = self.initial_theta2\n",
    "        self.theta1dot = self.initial_theta1dot\n",
    "        self.theta2dot = self.initial_theta2dot\n",
    "        \n",
    "    def getError(self):\n",
    "        return sqrt( (( (self.desiredX - self.end_effector[0]) / 100 ) **2) + (( (self.desiredY - self.end_effector[1]) / 100 )**2) )\n",
    "    \n",
    "    def getSpeeds(self):\n",
    "        return self.theta1dot, self.theta2dot\n",
    "        \n",
    "    def updateGains(self, Kp, Kd):\n",
    "        self.Kp = Kp\n",
    "        self.Kd = Kd\n",
    "        \n",
    "    def getGains(self):\n",
    "        return self.Kp, self.Kd\n",
    "        \n",
    "    def updateTheta(self):\n",
    "        \n",
    "        T1_, T2_ = self.impedenceControl()\n",
    "        \n",
    "        theta1dotdot = thdotdot1_f(T1_, T2_, self.g, self.m1, self.m2, self.l1, self.l2, self.theta1, self.theta2, self.theta1dot, self.theta2dot)\n",
    "        theta2dotdot = thdotdot2_f(T1_, T2_, self.g, self.m1, self.m2, self.l1, self.l2, self.theta1, self.theta2, self.theta1dot, self.theta2dot)\n",
    "\n",
    "        self.theta1dot = theta1dotdot*dt + self.theta1dot\n",
    "        self.theta2dot = theta2dotdot*dt + self.theta2dot\n",
    "\n",
    "        self.theta1 = self.theta1dot*dt + self.theta1\n",
    "        self.theta2 = self.theta2dot*dt + self.theta2\n",
    "\n",
    "        # some forward kinematics that'll be needed in reporting the current error and for drawing later on\n",
    "        self.forwardKin()\n",
    "        \n",
    "    def updateDesired(self, desiredX, desiredY, desiredXdott, desiredYdott):\n",
    "        self.desiredX = desiredX\n",
    "        self.desiredY = desiredY\n",
    "        self.desiredXdott = desiredXdott\n",
    "        self.desiredYdott = desiredYdott\n",
    "        \n",
    "    def impedenceControl(self):\n",
    "\n",
    "        currentX, currentY = forwardKin(self.theta1, self.theta2)\n",
    "\n",
    "        tempDesiredX, tempDesiredY = center_me(self.desiredX, self.desiredY)\n",
    "        \n",
    "        impedanceControl1 = impedanceControl1_f(self.Kp, self.Kd, tempDesiredX*0.7, tempDesiredY*0.7, self.desiredXdott, self.desiredYdott, currentX, currentY, self.l1, self.l2, self.theta1, self.theta2, self.theta1dot, self.theta2dot)\n",
    "        impedanceControl2 = impedanceControl2_f(self.Kp, self.Kd, tempDesiredX*0.7, tempDesiredY*0.7, self.desiredXdott, self.desiredYdott, currentX, currentY, self.l1, self.l2, self.theta1, self.theta2, self.theta1dot, self.theta2dot)\n",
    "        \n",
    "        # gravity compensation\n",
    "        gravityCompensation1 = gravityCompensation1_f(self.g, self.m1, self.m2, self.l1, self.l2, self.theta1, self.theta2, self.theta1dot, self.theta2dot)\n",
    "        gravityCompensation2 = gravityCompensation2_f(self.g, self.m1, self.m2, self.l1, self.l2, self.theta1, self.theta2, self.theta1dot, self.theta2dot)\n",
    "        T1_ = impedanceControl1 + gravityCompensation1\n",
    "        T2_ = impedanceControl2 + gravityCompensation2\n",
    "\n",
    "        return T1_, T2_\n",
    "    \n",
    "    \n",
    "    def draw(self, window):\n",
    "\n",
    "        # draw the arm\n",
    "        window = cv2.line(window, (200, 200), self.elbow, (255, 0, 0), 6)\n",
    "        window = cv2.line(window, self.elbow, self.end_effector, (255, 0, 0), 6)\n",
    "\n",
    "        # draw the desired point\n",
    "        window = cv2.circle(window, (self.desiredX, self.desiredY), 5, (255, 255, 255), 2)   # we have casual coordinates but we want zero to be the middle of screen with a range of -4 to 4 just bcz it works with our other values\n",
    "        return window"
   ]
  },
  {
   "cell_type": "markdown",
   "id": "78e899a0-00b0-4c2a-9432-a916ce33397d",
   "metadata": {},
   "source": [
    "Init OpenCV"
   ]
  },
  {
   "cell_type": "code",
   "execution_count": 8,
   "id": "e6e64ba6-67e5-485a-adf2-e75fb0483e90",
   "metadata": {
    "tags": []
   },
   "outputs": [],
   "source": [
    "import cv2\n",
    "from IPython.display import clear_output\n",
    "from time import time\n",
    "\n",
    "def millis():\n",
    "    return int(time()*1000)\n",
    "\n",
    "width = 400\n",
    "height = 400\n",
    "last_desiredPoint_update = 0\n",
    "desiredX = 81\n",
    "desiredY = 152\n",
    "\n",
    "def forceIntroduced(event, x, y, flags, param):\n",
    "    global desiredX, desiredY, last_desiredPoint_update\n",
    "\n",
    "    if event==cv2.EVENT_LBUTTONDOWN:\n",
    "        last_desiredPoint_update = millis()\n",
    "        desiredX = x\n",
    "        desiredY = y\n"
   ]
  },
  {
   "cell_type": "markdown",
   "id": "ada2c437-1859-485a-a42b-4f9a3ba94e4b",
   "metadata": {},
   "source": [
    "Ai (NEAT. Neuro-Evolution of Augmented Topologies)"
   ]
  },
  {
   "cell_type": "code",
   "execution_count": 9,
   "id": "d3581989-dde1-4e7d-956b-cbad9813a35a",
   "metadata": {
    "tags": []
   },
   "outputs": [
    {
     "name": "stdout",
     "output_type": "stream",
     "text": [
      "error 0.0\n"
     ]
    }
   ],
   "source": [
    "cv2.destroyAllWindows()\n",
    "\n",
    "    \n",
    "cv2.namedWindow('output', cv2.WINDOW_AUTOSIZE)\n",
    "# allow the user to edit the desired point real time\n",
    "cv2.setMouseCallback('output', forceIntroduced)\n",
    "\n",
    "arm = Arm(m1, m2, l1, l2, g_, initial_theta1, initial_theta2, initial_theta1dot, initial_theta2dot, Kp, Kd, initial_desiredX, initial_desiredY, initial_desiredXdott, initial_desiredYdott)\n",
    "\n",
    "while True:\n",
    "\n",
    "    window = np.zeros((height, width, 3), dtype=np.uint8)\n",
    "\n",
    "    try:\n",
    "        # update desired state\n",
    "        arm.updateDesired(desiredX, desiredY, initial_desiredXdott, initial_desiredYdott)\n",
    "\n",
    "        # physics simulation\n",
    "        arm.updateTheta()\n",
    "\n",
    "        # obtain the error\n",
    "        error = arm.getError()\n",
    "\n",
    "        clear_output(wait=True)\n",
    "        print(\"error\", (error - arm.previous_error))\n",
    "        arm.previous_error = error\n",
    "\n",
    "        # obtain the angular velocities to use in the policy function\n",
    "        theta1dot, theta2dot = arm.getSpeeds()\n",
    "\n",
    "        # debugging: display this genom to the screen\n",
    "        window = arm.draw(window)\n",
    "\n",
    "        cv2.imshow('output', window)\n",
    "\n",
    "        #cv2.waitKey(1)\n",
    "        if cv2.waitKey(1) & 0xFF == ord('q'):\n",
    "            break\n",
    "\n",
    "\n",
    "    except ValueError as e:\n",
    "    #    genom.reset()\n",
    "        print(e)\n",
    "    except Exception as e2:\n",
    "        print(e2)\n",
    "        print(\"Error\")\n",
    "\n",
    "\n",
    "cv2.destroyAllWindows()"
   ]
  },
  {
   "cell_type": "code",
   "execution_count": 42,
   "id": "eeace06a-d16c-4e2b-9a92-65dffd9ce2eb",
   "metadata": {},
   "outputs": [],
   "source": [
    "cv2.destroyAllWindows()"
   ]
  },
  {
   "cell_type": "code",
   "execution_count": null,
   "id": "59904670-aa2c-42be-b6ff-ef1220c033f3",
   "metadata": {},
   "outputs": [],
   "source": []
  }
 ],
 "metadata": {
  "kernelspec": {
   "display_name": "Python 3 (ipykernel)",
   "language": "python",
   "name": "python3"
  },
  "language_info": {
   "codemirror_mode": {
    "name": "ipython",
    "version": 3
   },
   "file_extension": ".py",
   "mimetype": "text/x-python",
   "name": "python",
   "nbconvert_exporter": "python",
   "pygments_lexer": "ipython3",
   "version": "3.9.7"
  }
 },
 "nbformat": 4,
 "nbformat_minor": 5
}
